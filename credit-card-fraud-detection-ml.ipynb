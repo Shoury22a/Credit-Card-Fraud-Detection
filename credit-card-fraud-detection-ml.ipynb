{
 "cells": [
  {
   "cell_type": "markdown",
   "id": "11ed5519",
   "metadata": {
    "_cell_guid": "b1076dfc-b9ad-4769-8c92-a6c4dae69d19",
    "_uuid": "8f2839f25d086af736a60e9eeb907d3b93b6e0e5",
    "papermill": {
     "duration": 0.010392,
     "end_time": "2025-02-02T15:48:25.760749",
     "exception": false,
     "start_time": "2025-02-02T15:48:25.750357",
     "status": "completed"
    },
    "tags": []
   },
   "source": [
    "# Import Necessary Library"
   ]
  },
  {
   "cell_type": "code",
   "execution_count": 3,
   "id": "025b5cc4",
   "metadata": {
    "execution": {
     "iopub.execute_input": "2025-02-02T15:48:25.778110Z",
     "iopub.status.busy": "2025-02-02T15:48:25.777732Z",
     "iopub.status.idle": "2025-02-02T15:48:29.070790Z",
     "shell.execute_reply": "2025-02-02T15:48:29.069678Z"
    },
    "papermill": {
     "duration": 3.303998,
     "end_time": "2025-02-02T15:48:29.072935",
     "exception": false,
     "start_time": "2025-02-02T15:48:25.768937",
     "status": "completed"
    },
    "tags": []
   },
   "outputs": [],
   "source": [
    "import numpy as np\n",
    "import pandas as pd \n",
    "import matplotlib.pyplot as plt \n",
    "import seaborn as sns \n",
    "\n",
    "from sklearn.model_selection import train_test_split\n",
    "from sklearn.linear_model import LogisticRegression\n",
    "from sklearn.metrics import accuracy_score"
   ]
  },
  {
   "cell_type": "markdown",
   "id": "6b54d920",
   "metadata": {
    "papermill": {
     "duration": 0.007906,
     "end_time": "2025-02-02T15:48:29.088970",
     "exception": false,
     "start_time": "2025-02-02T15:48:29.081064",
     "status": "completed"
    },
    "tags": []
   },
   "source": [
    "# Reading the Data"
   ]
  },
  {
   "cell_type": "code",
   "execution_count": 4,
   "id": "6438047b",
   "metadata": {
    "execution": {
     "iopub.execute_input": "2025-02-02T15:48:29.106954Z",
     "iopub.status.busy": "2025-02-02T15:48:29.106269Z",
     "iopub.status.idle": "2025-02-02T15:48:33.384410Z",
     "shell.execute_reply": "2025-02-02T15:48:33.383473Z"
    },
    "papermill": {
     "duration": 4.289304,
     "end_time": "2025-02-02T15:48:33.386718",
     "exception": false,
     "start_time": "2025-02-02T15:48:29.097414",
     "status": "completed"
    },
    "tags": []
   },
   "outputs": [],
   "source": [
    "df = pd.read_csv('creditcard.csv')"
   ]
  },
  {
   "cell_type": "markdown",
   "id": "6afe2a4c",
   "metadata": {
    "papermill": {
     "duration": 0.007434,
     "end_time": "2025-02-02T15:48:33.402122",
     "exception": false,
     "start_time": "2025-02-02T15:48:33.394688",
     "status": "completed"
    },
    "tags": []
   },
   "source": [
    "# Explore the Data"
   ]
  },
  {
   "cell_type": "code",
   "execution_count": 5,
   "id": "52207124",
   "metadata": {
    "execution": {
     "iopub.execute_input": "2025-02-02T15:48:33.418904Z",
     "iopub.status.busy": "2025-02-02T15:48:33.418502Z",
     "iopub.status.idle": "2025-02-02T15:48:33.425292Z",
     "shell.execute_reply": "2025-02-02T15:48:33.424223Z"
    },
    "papermill": {
     "duration": 0.01713,
     "end_time": "2025-02-02T15:48:33.426881",
     "exception": false,
     "start_time": "2025-02-02T15:48:33.409751",
     "status": "completed"
    },
    "tags": []
   },
   "outputs": [
    {
     "data": {
      "text/plain": [
       "(284807, 31)"
      ]
     },
     "execution_count": 5,
     "metadata": {},
     "output_type": "execute_result"
    }
   ],
   "source": [
    "df.shape"
   ]
  },
  {
   "cell_type": "code",
   "execution_count": 6,
   "id": "11325806",
   "metadata": {
    "execution": {
     "iopub.execute_input": "2025-02-02T15:48:33.444194Z",
     "iopub.status.busy": "2025-02-02T15:48:33.443792Z",
     "iopub.status.idle": "2025-02-02T15:48:33.481621Z",
     "shell.execute_reply": "2025-02-02T15:48:33.480438Z"
    },
    "papermill": {
     "duration": 0.04897,
     "end_time": "2025-02-02T15:48:33.483656",
     "exception": false,
     "start_time": "2025-02-02T15:48:33.434686",
     "status": "completed"
    },
    "tags": []
   },
   "outputs": [
    {
     "data": {
      "text/html": [
       "<div>\n",
       "<style scoped>\n",
       "    .dataframe tbody tr th:only-of-type {\n",
       "        vertical-align: middle;\n",
       "    }\n",
       "\n",
       "    .dataframe tbody tr th {\n",
       "        vertical-align: top;\n",
       "    }\n",
       "\n",
       "    .dataframe thead th {\n",
       "        text-align: right;\n",
       "    }\n",
       "</style>\n",
       "<table border=\"1\" class=\"dataframe\">\n",
       "  <thead>\n",
       "    <tr style=\"text-align: right;\">\n",
       "      <th></th>\n",
       "      <th>Time</th>\n",
       "      <th>V1</th>\n",
       "      <th>V2</th>\n",
       "      <th>V3</th>\n",
       "      <th>V4</th>\n",
       "      <th>V5</th>\n",
       "      <th>V6</th>\n",
       "      <th>V7</th>\n",
       "      <th>V8</th>\n",
       "      <th>V9</th>\n",
       "      <th>...</th>\n",
       "      <th>V21</th>\n",
       "      <th>V22</th>\n",
       "      <th>V23</th>\n",
       "      <th>V24</th>\n",
       "      <th>V25</th>\n",
       "      <th>V26</th>\n",
       "      <th>V27</th>\n",
       "      <th>V28</th>\n",
       "      <th>Amount</th>\n",
       "      <th>Class</th>\n",
       "    </tr>\n",
       "  </thead>\n",
       "  <tbody>\n",
       "    <tr>\n",
       "      <th>0</th>\n",
       "      <td>0.0</td>\n",
       "      <td>-1.359807</td>\n",
       "      <td>-0.072781</td>\n",
       "      <td>2.536347</td>\n",
       "      <td>1.378155</td>\n",
       "      <td>-0.338321</td>\n",
       "      <td>0.462388</td>\n",
       "      <td>0.239599</td>\n",
       "      <td>0.098698</td>\n",
       "      <td>0.363787</td>\n",
       "      <td>...</td>\n",
       "      <td>-0.018307</td>\n",
       "      <td>0.277838</td>\n",
       "      <td>-0.110474</td>\n",
       "      <td>0.066928</td>\n",
       "      <td>0.128539</td>\n",
       "      <td>-0.189115</td>\n",
       "      <td>0.133558</td>\n",
       "      <td>-0.021053</td>\n",
       "      <td>149.62</td>\n",
       "      <td>0</td>\n",
       "    </tr>\n",
       "    <tr>\n",
       "      <th>1</th>\n",
       "      <td>0.0</td>\n",
       "      <td>1.191857</td>\n",
       "      <td>0.266151</td>\n",
       "      <td>0.166480</td>\n",
       "      <td>0.448154</td>\n",
       "      <td>0.060018</td>\n",
       "      <td>-0.082361</td>\n",
       "      <td>-0.078803</td>\n",
       "      <td>0.085102</td>\n",
       "      <td>-0.255425</td>\n",
       "      <td>...</td>\n",
       "      <td>-0.225775</td>\n",
       "      <td>-0.638672</td>\n",
       "      <td>0.101288</td>\n",
       "      <td>-0.339846</td>\n",
       "      <td>0.167170</td>\n",
       "      <td>0.125895</td>\n",
       "      <td>-0.008983</td>\n",
       "      <td>0.014724</td>\n",
       "      <td>2.69</td>\n",
       "      <td>0</td>\n",
       "    </tr>\n",
       "    <tr>\n",
       "      <th>2</th>\n",
       "      <td>1.0</td>\n",
       "      <td>-1.358354</td>\n",
       "      <td>-1.340163</td>\n",
       "      <td>1.773209</td>\n",
       "      <td>0.379780</td>\n",
       "      <td>-0.503198</td>\n",
       "      <td>1.800499</td>\n",
       "      <td>0.791461</td>\n",
       "      <td>0.247676</td>\n",
       "      <td>-1.514654</td>\n",
       "      <td>...</td>\n",
       "      <td>0.247998</td>\n",
       "      <td>0.771679</td>\n",
       "      <td>0.909412</td>\n",
       "      <td>-0.689281</td>\n",
       "      <td>-0.327642</td>\n",
       "      <td>-0.139097</td>\n",
       "      <td>-0.055353</td>\n",
       "      <td>-0.059752</td>\n",
       "      <td>378.66</td>\n",
       "      <td>0</td>\n",
       "    </tr>\n",
       "    <tr>\n",
       "      <th>3</th>\n",
       "      <td>1.0</td>\n",
       "      <td>-0.966272</td>\n",
       "      <td>-0.185226</td>\n",
       "      <td>1.792993</td>\n",
       "      <td>-0.863291</td>\n",
       "      <td>-0.010309</td>\n",
       "      <td>1.247203</td>\n",
       "      <td>0.237609</td>\n",
       "      <td>0.377436</td>\n",
       "      <td>-1.387024</td>\n",
       "      <td>...</td>\n",
       "      <td>-0.108300</td>\n",
       "      <td>0.005274</td>\n",
       "      <td>-0.190321</td>\n",
       "      <td>-1.175575</td>\n",
       "      <td>0.647376</td>\n",
       "      <td>-0.221929</td>\n",
       "      <td>0.062723</td>\n",
       "      <td>0.061458</td>\n",
       "      <td>123.50</td>\n",
       "      <td>0</td>\n",
       "    </tr>\n",
       "    <tr>\n",
       "      <th>4</th>\n",
       "      <td>2.0</td>\n",
       "      <td>-1.158233</td>\n",
       "      <td>0.877737</td>\n",
       "      <td>1.548718</td>\n",
       "      <td>0.403034</td>\n",
       "      <td>-0.407193</td>\n",
       "      <td>0.095921</td>\n",
       "      <td>0.592941</td>\n",
       "      <td>-0.270533</td>\n",
       "      <td>0.817739</td>\n",
       "      <td>...</td>\n",
       "      <td>-0.009431</td>\n",
       "      <td>0.798278</td>\n",
       "      <td>-0.137458</td>\n",
       "      <td>0.141267</td>\n",
       "      <td>-0.206010</td>\n",
       "      <td>0.502292</td>\n",
       "      <td>0.219422</td>\n",
       "      <td>0.215153</td>\n",
       "      <td>69.99</td>\n",
       "      <td>0</td>\n",
       "    </tr>\n",
       "  </tbody>\n",
       "</table>\n",
       "<p>5 rows × 31 columns</p>\n",
       "</div>"
      ],
      "text/plain": [
       "   Time        V1        V2        V3        V4        V5        V6        V7  \\\n",
       "0   0.0 -1.359807 -0.072781  2.536347  1.378155 -0.338321  0.462388  0.239599   \n",
       "1   0.0  1.191857  0.266151  0.166480  0.448154  0.060018 -0.082361 -0.078803   \n",
       "2   1.0 -1.358354 -1.340163  1.773209  0.379780 -0.503198  1.800499  0.791461   \n",
       "3   1.0 -0.966272 -0.185226  1.792993 -0.863291 -0.010309  1.247203  0.237609   \n",
       "4   2.0 -1.158233  0.877737  1.548718  0.403034 -0.407193  0.095921  0.592941   \n",
       "\n",
       "         V8        V9  ...       V21       V22       V23       V24       V25  \\\n",
       "0  0.098698  0.363787  ... -0.018307  0.277838 -0.110474  0.066928  0.128539   \n",
       "1  0.085102 -0.255425  ... -0.225775 -0.638672  0.101288 -0.339846  0.167170   \n",
       "2  0.247676 -1.514654  ...  0.247998  0.771679  0.909412 -0.689281 -0.327642   \n",
       "3  0.377436 -1.387024  ... -0.108300  0.005274 -0.190321 -1.175575  0.647376   \n",
       "4 -0.270533  0.817739  ... -0.009431  0.798278 -0.137458  0.141267 -0.206010   \n",
       "\n",
       "        V26       V27       V28  Amount  Class  \n",
       "0 -0.189115  0.133558 -0.021053  149.62      0  \n",
       "1  0.125895 -0.008983  0.014724    2.69      0  \n",
       "2 -0.139097 -0.055353 -0.059752  378.66      0  \n",
       "3 -0.221929  0.062723  0.061458  123.50      0  \n",
       "4  0.502292  0.219422  0.215153   69.99      0  \n",
       "\n",
       "[5 rows x 31 columns]"
      ]
     },
     "execution_count": 6,
     "metadata": {},
     "output_type": "execute_result"
    }
   ],
   "source": [
    "df.head()"
   ]
  },
  {
   "cell_type": "code",
   "execution_count": 7,
   "id": "1465b047",
   "metadata": {
    "execution": {
     "iopub.execute_input": "2025-02-02T15:48:33.501783Z",
     "iopub.status.busy": "2025-02-02T15:48:33.501395Z",
     "iopub.status.idle": "2025-02-02T15:48:33.523668Z",
     "shell.execute_reply": "2025-02-02T15:48:33.522481Z"
    },
    "papermill": {
     "duration": 0.033411,
     "end_time": "2025-02-02T15:48:33.525530",
     "exception": false,
     "start_time": "2025-02-02T15:48:33.492119",
     "status": "completed"
    },
    "tags": []
   },
   "outputs": [
    {
     "data": {
      "text/html": [
       "<div>\n",
       "<style scoped>\n",
       "    .dataframe tbody tr th:only-of-type {\n",
       "        vertical-align: middle;\n",
       "    }\n",
       "\n",
       "    .dataframe tbody tr th {\n",
       "        vertical-align: top;\n",
       "    }\n",
       "\n",
       "    .dataframe thead th {\n",
       "        text-align: right;\n",
       "    }\n",
       "</style>\n",
       "<table border=\"1\" class=\"dataframe\">\n",
       "  <thead>\n",
       "    <tr style=\"text-align: right;\">\n",
       "      <th></th>\n",
       "      <th>Time</th>\n",
       "      <th>V1</th>\n",
       "      <th>V2</th>\n",
       "      <th>V3</th>\n",
       "      <th>V4</th>\n",
       "      <th>V5</th>\n",
       "      <th>V6</th>\n",
       "      <th>V7</th>\n",
       "      <th>V8</th>\n",
       "      <th>V9</th>\n",
       "      <th>...</th>\n",
       "      <th>V21</th>\n",
       "      <th>V22</th>\n",
       "      <th>V23</th>\n",
       "      <th>V24</th>\n",
       "      <th>V25</th>\n",
       "      <th>V26</th>\n",
       "      <th>V27</th>\n",
       "      <th>V28</th>\n",
       "      <th>Amount</th>\n",
       "      <th>Class</th>\n",
       "    </tr>\n",
       "  </thead>\n",
       "  <tbody>\n",
       "    <tr>\n",
       "      <th>284802</th>\n",
       "      <td>172786.0</td>\n",
       "      <td>-11.881118</td>\n",
       "      <td>10.071785</td>\n",
       "      <td>-9.834783</td>\n",
       "      <td>-2.066656</td>\n",
       "      <td>-5.364473</td>\n",
       "      <td>-2.606837</td>\n",
       "      <td>-4.918215</td>\n",
       "      <td>7.305334</td>\n",
       "      <td>1.914428</td>\n",
       "      <td>...</td>\n",
       "      <td>0.213454</td>\n",
       "      <td>0.111864</td>\n",
       "      <td>1.014480</td>\n",
       "      <td>-0.509348</td>\n",
       "      <td>1.436807</td>\n",
       "      <td>0.250034</td>\n",
       "      <td>0.943651</td>\n",
       "      <td>0.823731</td>\n",
       "      <td>0.77</td>\n",
       "      <td>0</td>\n",
       "    </tr>\n",
       "    <tr>\n",
       "      <th>284803</th>\n",
       "      <td>172787.0</td>\n",
       "      <td>-0.732789</td>\n",
       "      <td>-0.055080</td>\n",
       "      <td>2.035030</td>\n",
       "      <td>-0.738589</td>\n",
       "      <td>0.868229</td>\n",
       "      <td>1.058415</td>\n",
       "      <td>0.024330</td>\n",
       "      <td>0.294869</td>\n",
       "      <td>0.584800</td>\n",
       "      <td>...</td>\n",
       "      <td>0.214205</td>\n",
       "      <td>0.924384</td>\n",
       "      <td>0.012463</td>\n",
       "      <td>-1.016226</td>\n",
       "      <td>-0.606624</td>\n",
       "      <td>-0.395255</td>\n",
       "      <td>0.068472</td>\n",
       "      <td>-0.053527</td>\n",
       "      <td>24.79</td>\n",
       "      <td>0</td>\n",
       "    </tr>\n",
       "    <tr>\n",
       "      <th>284804</th>\n",
       "      <td>172788.0</td>\n",
       "      <td>1.919565</td>\n",
       "      <td>-0.301254</td>\n",
       "      <td>-3.249640</td>\n",
       "      <td>-0.557828</td>\n",
       "      <td>2.630515</td>\n",
       "      <td>3.031260</td>\n",
       "      <td>-0.296827</td>\n",
       "      <td>0.708417</td>\n",
       "      <td>0.432454</td>\n",
       "      <td>...</td>\n",
       "      <td>0.232045</td>\n",
       "      <td>0.578229</td>\n",
       "      <td>-0.037501</td>\n",
       "      <td>0.640134</td>\n",
       "      <td>0.265745</td>\n",
       "      <td>-0.087371</td>\n",
       "      <td>0.004455</td>\n",
       "      <td>-0.026561</td>\n",
       "      <td>67.88</td>\n",
       "      <td>0</td>\n",
       "    </tr>\n",
       "    <tr>\n",
       "      <th>284805</th>\n",
       "      <td>172788.0</td>\n",
       "      <td>-0.240440</td>\n",
       "      <td>0.530483</td>\n",
       "      <td>0.702510</td>\n",
       "      <td>0.689799</td>\n",
       "      <td>-0.377961</td>\n",
       "      <td>0.623708</td>\n",
       "      <td>-0.686180</td>\n",
       "      <td>0.679145</td>\n",
       "      <td>0.392087</td>\n",
       "      <td>...</td>\n",
       "      <td>0.265245</td>\n",
       "      <td>0.800049</td>\n",
       "      <td>-0.163298</td>\n",
       "      <td>0.123205</td>\n",
       "      <td>-0.569159</td>\n",
       "      <td>0.546668</td>\n",
       "      <td>0.108821</td>\n",
       "      <td>0.104533</td>\n",
       "      <td>10.00</td>\n",
       "      <td>0</td>\n",
       "    </tr>\n",
       "    <tr>\n",
       "      <th>284806</th>\n",
       "      <td>172792.0</td>\n",
       "      <td>-0.533413</td>\n",
       "      <td>-0.189733</td>\n",
       "      <td>0.703337</td>\n",
       "      <td>-0.506271</td>\n",
       "      <td>-0.012546</td>\n",
       "      <td>-0.649617</td>\n",
       "      <td>1.577006</td>\n",
       "      <td>-0.414650</td>\n",
       "      <td>0.486180</td>\n",
       "      <td>...</td>\n",
       "      <td>0.261057</td>\n",
       "      <td>0.643078</td>\n",
       "      <td>0.376777</td>\n",
       "      <td>0.008797</td>\n",
       "      <td>-0.473649</td>\n",
       "      <td>-0.818267</td>\n",
       "      <td>-0.002415</td>\n",
       "      <td>0.013649</td>\n",
       "      <td>217.00</td>\n",
       "      <td>0</td>\n",
       "    </tr>\n",
       "  </tbody>\n",
       "</table>\n",
       "<p>5 rows × 31 columns</p>\n",
       "</div>"
      ],
      "text/plain": [
       "            Time         V1         V2        V3        V4        V5  \\\n",
       "284802  172786.0 -11.881118  10.071785 -9.834783 -2.066656 -5.364473   \n",
       "284803  172787.0  -0.732789  -0.055080  2.035030 -0.738589  0.868229   \n",
       "284804  172788.0   1.919565  -0.301254 -3.249640 -0.557828  2.630515   \n",
       "284805  172788.0  -0.240440   0.530483  0.702510  0.689799 -0.377961   \n",
       "284806  172792.0  -0.533413  -0.189733  0.703337 -0.506271 -0.012546   \n",
       "\n",
       "              V6        V7        V8        V9  ...       V21       V22  \\\n",
       "284802 -2.606837 -4.918215  7.305334  1.914428  ...  0.213454  0.111864   \n",
       "284803  1.058415  0.024330  0.294869  0.584800  ...  0.214205  0.924384   \n",
       "284804  3.031260 -0.296827  0.708417  0.432454  ...  0.232045  0.578229   \n",
       "284805  0.623708 -0.686180  0.679145  0.392087  ...  0.265245  0.800049   \n",
       "284806 -0.649617  1.577006 -0.414650  0.486180  ...  0.261057  0.643078   \n",
       "\n",
       "             V23       V24       V25       V26       V27       V28  Amount  \\\n",
       "284802  1.014480 -0.509348  1.436807  0.250034  0.943651  0.823731    0.77   \n",
       "284803  0.012463 -1.016226 -0.606624 -0.395255  0.068472 -0.053527   24.79   \n",
       "284804 -0.037501  0.640134  0.265745 -0.087371  0.004455 -0.026561   67.88   \n",
       "284805 -0.163298  0.123205 -0.569159  0.546668  0.108821  0.104533   10.00   \n",
       "284806  0.376777  0.008797 -0.473649 -0.818267 -0.002415  0.013649  217.00   \n",
       "\n",
       "        Class  \n",
       "284802      0  \n",
       "284803      0  \n",
       "284804      0  \n",
       "284805      0  \n",
       "284806      0  \n",
       "\n",
       "[5 rows x 31 columns]"
      ]
     },
     "execution_count": 7,
     "metadata": {},
     "output_type": "execute_result"
    }
   ],
   "source": [
    "df.tail()"
   ]
  },
  {
   "cell_type": "code",
   "execution_count": 8,
   "id": "73eab657",
   "metadata": {
    "execution": {
     "iopub.execute_input": "2025-02-02T15:48:33.544378Z",
     "iopub.status.busy": "2025-02-02T15:48:33.544009Z",
     "iopub.status.idle": "2025-02-02T15:48:33.603010Z",
     "shell.execute_reply": "2025-02-02T15:48:33.601410Z"
    },
    "papermill": {
     "duration": 0.070835,
     "end_time": "2025-02-02T15:48:33.605086",
     "exception": false,
     "start_time": "2025-02-02T15:48:33.534251",
     "status": "completed"
    },
    "tags": []
   },
   "outputs": [
    {
     "name": "stdout",
     "output_type": "stream",
     "text": [
      "<class 'pandas.core.frame.DataFrame'>\n",
      "RangeIndex: 284807 entries, 0 to 284806\n",
      "Data columns (total 31 columns):\n",
      " #   Column  Non-Null Count   Dtype  \n",
      "---  ------  --------------   -----  \n",
      " 0   Time    284807 non-null  float64\n",
      " 1   V1      284807 non-null  float64\n",
      " 2   V2      284807 non-null  float64\n",
      " 3   V3      284807 non-null  float64\n",
      " 4   V4      284807 non-null  float64\n",
      " 5   V5      284807 non-null  float64\n",
      " 6   V6      284807 non-null  float64\n",
      " 7   V7      284807 non-null  float64\n",
      " 8   V8      284807 non-null  float64\n",
      " 9   V9      284807 non-null  float64\n",
      " 10  V10     284807 non-null  float64\n",
      " 11  V11     284807 non-null  float64\n",
      " 12  V12     284807 non-null  float64\n",
      " 13  V13     284807 non-null  float64\n",
      " 14  V14     284807 non-null  float64\n",
      " 15  V15     284807 non-null  float64\n",
      " 16  V16     284807 non-null  float64\n",
      " 17  V17     284807 non-null  float64\n",
      " 18  V18     284807 non-null  float64\n",
      " 19  V19     284807 non-null  float64\n",
      " 20  V20     284807 non-null  float64\n",
      " 21  V21     284807 non-null  float64\n",
      " 22  V22     284807 non-null  float64\n",
      " 23  V23     284807 non-null  float64\n",
      " 24  V24     284807 non-null  float64\n",
      " 25  V25     284807 non-null  float64\n",
      " 26  V26     284807 non-null  float64\n",
      " 27  V27     284807 non-null  float64\n",
      " 28  V28     284807 non-null  float64\n",
      " 29  Amount  284807 non-null  float64\n",
      " 30  Class   284807 non-null  int64  \n",
      "dtypes: float64(30), int64(1)\n",
      "memory usage: 67.4 MB\n"
     ]
    }
   ],
   "source": [
    "df.info()"
   ]
  },
  {
   "cell_type": "code",
   "execution_count": 9,
   "id": "35353f0a",
   "metadata": {
    "execution": {
     "iopub.execute_input": "2025-02-02T15:48:33.624209Z",
     "iopub.status.busy": "2025-02-02T15:48:33.623874Z",
     "iopub.status.idle": "2025-02-02T15:48:33.662215Z",
     "shell.execute_reply": "2025-02-02T15:48:33.661102Z"
    },
    "papermill": {
     "duration": 0.050071,
     "end_time": "2025-02-02T15:48:33.664089",
     "exception": false,
     "start_time": "2025-02-02T15:48:33.614018",
     "status": "completed"
    },
    "tags": []
   },
   "outputs": [
    {
     "data": {
      "text/plain": [
       "Time      0\n",
       "V1        0\n",
       "V2        0\n",
       "V3        0\n",
       "V4        0\n",
       "V5        0\n",
       "V6        0\n",
       "V7        0\n",
       "V8        0\n",
       "V9        0\n",
       "V10       0\n",
       "V11       0\n",
       "V12       0\n",
       "V13       0\n",
       "V14       0\n",
       "V15       0\n",
       "V16       0\n",
       "V17       0\n",
       "V18       0\n",
       "V19       0\n",
       "V20       0\n",
       "V21       0\n",
       "V22       0\n",
       "V23       0\n",
       "V24       0\n",
       "V25       0\n",
       "V26       0\n",
       "V27       0\n",
       "V28       0\n",
       "Amount    0\n",
       "Class     0\n",
       "dtype: int64"
      ]
     },
     "execution_count": 9,
     "metadata": {},
     "output_type": "execute_result"
    }
   ],
   "source": [
    "df.isnull().sum()"
   ]
  },
  {
   "cell_type": "markdown",
   "id": "912a8533",
   "metadata": {
    "papermill": {
     "duration": 0.008199,
     "end_time": "2025-02-02T15:48:33.681032",
     "exception": false,
     "start_time": "2025-02-02T15:48:33.672833",
     "status": "completed"
    },
    "tags": []
   },
   "source": [
    "No Null Value"
   ]
  },
  {
   "cell_type": "code",
   "execution_count": 10,
   "id": "4412282d",
   "metadata": {
    "execution": {
     "iopub.execute_input": "2025-02-02T15:48:33.699449Z",
     "iopub.status.busy": "2025-02-02T15:48:33.698982Z",
     "iopub.status.idle": "2025-02-02T15:48:34.544579Z",
     "shell.execute_reply": "2025-02-02T15:48:34.543424Z"
    },
    "papermill": {
     "duration": 0.857218,
     "end_time": "2025-02-02T15:48:34.546686",
     "exception": false,
     "start_time": "2025-02-02T15:48:33.689468",
     "status": "completed"
    },
    "tags": []
   },
   "outputs": [
    {
     "data": {
      "text/plain": [
       "np.int64(1081)"
      ]
     },
     "execution_count": 10,
     "metadata": {},
     "output_type": "execute_result"
    }
   ],
   "source": [
    "df.duplicated().sum()"
   ]
  },
  {
   "cell_type": "markdown",
   "id": "0fb04b0d",
   "metadata": {
    "papermill": {
     "duration": 0.008274,
     "end_time": "2025-02-02T15:48:34.563962",
     "exception": false,
     "start_time": "2025-02-02T15:48:34.555688",
     "status": "completed"
    },
    "tags": []
   },
   "source": [
    "Have 1081 duplicated value and i will drop it at cleaning section"
   ]
  },
  {
   "cell_type": "code",
   "execution_count": 11,
   "id": "cd7a1256",
   "metadata": {
    "execution": {
     "iopub.execute_input": "2025-02-02T15:48:34.584966Z",
     "iopub.status.busy": "2025-02-02T15:48:34.584562Z",
     "iopub.status.idle": "2025-02-02T15:48:34.595443Z",
     "shell.execute_reply": "2025-02-02T15:48:34.594326Z"
    },
    "papermill": {
     "duration": 0.022428,
     "end_time": "2025-02-02T15:48:34.597213",
     "exception": false,
     "start_time": "2025-02-02T15:48:34.574785",
     "status": "completed"
    },
    "tags": []
   },
   "outputs": [
    {
     "data": {
      "text/plain": [
       "Class\n",
       "0    284315\n",
       "1       492\n",
       "Name: count, dtype: int64"
      ]
     },
     "execution_count": 11,
     "metadata": {},
     "output_type": "execute_result"
    }
   ],
   "source": [
    "df['Class'].value_counts()"
   ]
  },
  {
   "cell_type": "markdown",
   "id": "7d7771a1",
   "metadata": {
    "papermill": {
     "duration": 0.0085,
     "end_time": "2025-02-02T15:48:34.614773",
     "exception": false,
     "start_time": "2025-02-02T15:48:34.606273",
     "status": "completed"
    },
    "tags": []
   },
   "source": [
    "This Dataset is highly unblanced\n",
    "\n",
    "0 --> Normal Transaction\n",
    "\n",
    "1 --> fraudulent transaction"
   ]
  },
  {
   "cell_type": "code",
   "execution_count": 12,
   "id": "d76776a2",
   "metadata": {
    "execution": {
     "iopub.execute_input": "2025-02-02T15:48:34.633779Z",
     "iopub.status.busy": "2025-02-02T15:48:34.633370Z",
     "iopub.status.idle": "2025-02-02T15:48:35.104469Z",
     "shell.execute_reply": "2025-02-02T15:48:35.103401Z"
    },
    "papermill": {
     "duration": 0.482825,
     "end_time": "2025-02-02T15:48:35.106340",
     "exception": false,
     "start_time": "2025-02-02T15:48:34.623515",
     "status": "completed"
    },
    "tags": []
   },
   "outputs": [
    {
     "data": {
      "text/html": [
       "<div>\n",
       "<style scoped>\n",
       "    .dataframe tbody tr th:only-of-type {\n",
       "        vertical-align: middle;\n",
       "    }\n",
       "\n",
       "    .dataframe tbody tr th {\n",
       "        vertical-align: top;\n",
       "    }\n",
       "\n",
       "    .dataframe thead th {\n",
       "        text-align: right;\n",
       "    }\n",
       "</style>\n",
       "<table border=\"1\" class=\"dataframe\">\n",
       "  <thead>\n",
       "    <tr style=\"text-align: right;\">\n",
       "      <th></th>\n",
       "      <th>Time</th>\n",
       "      <th>V1</th>\n",
       "      <th>V2</th>\n",
       "      <th>V3</th>\n",
       "      <th>V4</th>\n",
       "      <th>V5</th>\n",
       "      <th>V6</th>\n",
       "      <th>V7</th>\n",
       "      <th>V8</th>\n",
       "      <th>V9</th>\n",
       "      <th>...</th>\n",
       "      <th>V21</th>\n",
       "      <th>V22</th>\n",
       "      <th>V23</th>\n",
       "      <th>V24</th>\n",
       "      <th>V25</th>\n",
       "      <th>V26</th>\n",
       "      <th>V27</th>\n",
       "      <th>V28</th>\n",
       "      <th>Amount</th>\n",
       "      <th>Class</th>\n",
       "    </tr>\n",
       "  </thead>\n",
       "  <tbody>\n",
       "    <tr>\n",
       "      <th>count</th>\n",
       "      <td>284807.000000</td>\n",
       "      <td>2.848070e+05</td>\n",
       "      <td>2.848070e+05</td>\n",
       "      <td>2.848070e+05</td>\n",
       "      <td>2.848070e+05</td>\n",
       "      <td>2.848070e+05</td>\n",
       "      <td>2.848070e+05</td>\n",
       "      <td>2.848070e+05</td>\n",
       "      <td>2.848070e+05</td>\n",
       "      <td>2.848070e+05</td>\n",
       "      <td>...</td>\n",
       "      <td>2.848070e+05</td>\n",
       "      <td>2.848070e+05</td>\n",
       "      <td>2.848070e+05</td>\n",
       "      <td>2.848070e+05</td>\n",
       "      <td>2.848070e+05</td>\n",
       "      <td>2.848070e+05</td>\n",
       "      <td>2.848070e+05</td>\n",
       "      <td>2.848070e+05</td>\n",
       "      <td>284807.000000</td>\n",
       "      <td>284807.000000</td>\n",
       "    </tr>\n",
       "    <tr>\n",
       "      <th>mean</th>\n",
       "      <td>94813.859575</td>\n",
       "      <td>1.168375e-15</td>\n",
       "      <td>3.416908e-16</td>\n",
       "      <td>-1.379537e-15</td>\n",
       "      <td>2.074095e-15</td>\n",
       "      <td>9.604066e-16</td>\n",
       "      <td>1.487313e-15</td>\n",
       "      <td>-5.556467e-16</td>\n",
       "      <td>1.213481e-16</td>\n",
       "      <td>-2.406331e-15</td>\n",
       "      <td>...</td>\n",
       "      <td>1.654067e-16</td>\n",
       "      <td>-3.568593e-16</td>\n",
       "      <td>2.578648e-16</td>\n",
       "      <td>4.473266e-15</td>\n",
       "      <td>5.340915e-16</td>\n",
       "      <td>1.683437e-15</td>\n",
       "      <td>-3.660091e-16</td>\n",
       "      <td>-1.227390e-16</td>\n",
       "      <td>88.349619</td>\n",
       "      <td>0.001727</td>\n",
       "    </tr>\n",
       "    <tr>\n",
       "      <th>std</th>\n",
       "      <td>47488.145955</td>\n",
       "      <td>1.958696e+00</td>\n",
       "      <td>1.651309e+00</td>\n",
       "      <td>1.516255e+00</td>\n",
       "      <td>1.415869e+00</td>\n",
       "      <td>1.380247e+00</td>\n",
       "      <td>1.332271e+00</td>\n",
       "      <td>1.237094e+00</td>\n",
       "      <td>1.194353e+00</td>\n",
       "      <td>1.098632e+00</td>\n",
       "      <td>...</td>\n",
       "      <td>7.345240e-01</td>\n",
       "      <td>7.257016e-01</td>\n",
       "      <td>6.244603e-01</td>\n",
       "      <td>6.056471e-01</td>\n",
       "      <td>5.212781e-01</td>\n",
       "      <td>4.822270e-01</td>\n",
       "      <td>4.036325e-01</td>\n",
       "      <td>3.300833e-01</td>\n",
       "      <td>250.120109</td>\n",
       "      <td>0.041527</td>\n",
       "    </tr>\n",
       "    <tr>\n",
       "      <th>min</th>\n",
       "      <td>0.000000</td>\n",
       "      <td>-5.640751e+01</td>\n",
       "      <td>-7.271573e+01</td>\n",
       "      <td>-4.832559e+01</td>\n",
       "      <td>-5.683171e+00</td>\n",
       "      <td>-1.137433e+02</td>\n",
       "      <td>-2.616051e+01</td>\n",
       "      <td>-4.355724e+01</td>\n",
       "      <td>-7.321672e+01</td>\n",
       "      <td>-1.343407e+01</td>\n",
       "      <td>...</td>\n",
       "      <td>-3.483038e+01</td>\n",
       "      <td>-1.093314e+01</td>\n",
       "      <td>-4.480774e+01</td>\n",
       "      <td>-2.836627e+00</td>\n",
       "      <td>-1.029540e+01</td>\n",
       "      <td>-2.604551e+00</td>\n",
       "      <td>-2.256568e+01</td>\n",
       "      <td>-1.543008e+01</td>\n",
       "      <td>0.000000</td>\n",
       "      <td>0.000000</td>\n",
       "    </tr>\n",
       "    <tr>\n",
       "      <th>25%</th>\n",
       "      <td>54201.500000</td>\n",
       "      <td>-9.203734e-01</td>\n",
       "      <td>-5.985499e-01</td>\n",
       "      <td>-8.903648e-01</td>\n",
       "      <td>-8.486401e-01</td>\n",
       "      <td>-6.915971e-01</td>\n",
       "      <td>-7.682956e-01</td>\n",
       "      <td>-5.540759e-01</td>\n",
       "      <td>-2.086297e-01</td>\n",
       "      <td>-6.430976e-01</td>\n",
       "      <td>...</td>\n",
       "      <td>-2.283949e-01</td>\n",
       "      <td>-5.423504e-01</td>\n",
       "      <td>-1.618463e-01</td>\n",
       "      <td>-3.545861e-01</td>\n",
       "      <td>-3.171451e-01</td>\n",
       "      <td>-3.269839e-01</td>\n",
       "      <td>-7.083953e-02</td>\n",
       "      <td>-5.295979e-02</td>\n",
       "      <td>5.600000</td>\n",
       "      <td>0.000000</td>\n",
       "    </tr>\n",
       "    <tr>\n",
       "      <th>50%</th>\n",
       "      <td>84692.000000</td>\n",
       "      <td>1.810880e-02</td>\n",
       "      <td>6.548556e-02</td>\n",
       "      <td>1.798463e-01</td>\n",
       "      <td>-1.984653e-02</td>\n",
       "      <td>-5.433583e-02</td>\n",
       "      <td>-2.741871e-01</td>\n",
       "      <td>4.010308e-02</td>\n",
       "      <td>2.235804e-02</td>\n",
       "      <td>-5.142873e-02</td>\n",
       "      <td>...</td>\n",
       "      <td>-2.945017e-02</td>\n",
       "      <td>6.781943e-03</td>\n",
       "      <td>-1.119293e-02</td>\n",
       "      <td>4.097606e-02</td>\n",
       "      <td>1.659350e-02</td>\n",
       "      <td>-5.213911e-02</td>\n",
       "      <td>1.342146e-03</td>\n",
       "      <td>1.124383e-02</td>\n",
       "      <td>22.000000</td>\n",
       "      <td>0.000000</td>\n",
       "    </tr>\n",
       "    <tr>\n",
       "      <th>75%</th>\n",
       "      <td>139320.500000</td>\n",
       "      <td>1.315642e+00</td>\n",
       "      <td>8.037239e-01</td>\n",
       "      <td>1.027196e+00</td>\n",
       "      <td>7.433413e-01</td>\n",
       "      <td>6.119264e-01</td>\n",
       "      <td>3.985649e-01</td>\n",
       "      <td>5.704361e-01</td>\n",
       "      <td>3.273459e-01</td>\n",
       "      <td>5.971390e-01</td>\n",
       "      <td>...</td>\n",
       "      <td>1.863772e-01</td>\n",
       "      <td>5.285536e-01</td>\n",
       "      <td>1.476421e-01</td>\n",
       "      <td>4.395266e-01</td>\n",
       "      <td>3.507156e-01</td>\n",
       "      <td>2.409522e-01</td>\n",
       "      <td>9.104512e-02</td>\n",
       "      <td>7.827995e-02</td>\n",
       "      <td>77.165000</td>\n",
       "      <td>0.000000</td>\n",
       "    </tr>\n",
       "    <tr>\n",
       "      <th>max</th>\n",
       "      <td>172792.000000</td>\n",
       "      <td>2.454930e+00</td>\n",
       "      <td>2.205773e+01</td>\n",
       "      <td>9.382558e+00</td>\n",
       "      <td>1.687534e+01</td>\n",
       "      <td>3.480167e+01</td>\n",
       "      <td>7.330163e+01</td>\n",
       "      <td>1.205895e+02</td>\n",
       "      <td>2.000721e+01</td>\n",
       "      <td>1.559499e+01</td>\n",
       "      <td>...</td>\n",
       "      <td>2.720284e+01</td>\n",
       "      <td>1.050309e+01</td>\n",
       "      <td>2.252841e+01</td>\n",
       "      <td>4.584549e+00</td>\n",
       "      <td>7.519589e+00</td>\n",
       "      <td>3.517346e+00</td>\n",
       "      <td>3.161220e+01</td>\n",
       "      <td>3.384781e+01</td>\n",
       "      <td>25691.160000</td>\n",
       "      <td>1.000000</td>\n",
       "    </tr>\n",
       "  </tbody>\n",
       "</table>\n",
       "<p>8 rows × 31 columns</p>\n",
       "</div>"
      ],
      "text/plain": [
       "                Time            V1            V2            V3            V4  \\\n",
       "count  284807.000000  2.848070e+05  2.848070e+05  2.848070e+05  2.848070e+05   \n",
       "mean    94813.859575  1.168375e-15  3.416908e-16 -1.379537e-15  2.074095e-15   \n",
       "std     47488.145955  1.958696e+00  1.651309e+00  1.516255e+00  1.415869e+00   \n",
       "min         0.000000 -5.640751e+01 -7.271573e+01 -4.832559e+01 -5.683171e+00   \n",
       "25%     54201.500000 -9.203734e-01 -5.985499e-01 -8.903648e-01 -8.486401e-01   \n",
       "50%     84692.000000  1.810880e-02  6.548556e-02  1.798463e-01 -1.984653e-02   \n",
       "75%    139320.500000  1.315642e+00  8.037239e-01  1.027196e+00  7.433413e-01   \n",
       "max    172792.000000  2.454930e+00  2.205773e+01  9.382558e+00  1.687534e+01   \n",
       "\n",
       "                 V5            V6            V7            V8            V9  \\\n",
       "count  2.848070e+05  2.848070e+05  2.848070e+05  2.848070e+05  2.848070e+05   \n",
       "mean   9.604066e-16  1.487313e-15 -5.556467e-16  1.213481e-16 -2.406331e-15   \n",
       "std    1.380247e+00  1.332271e+00  1.237094e+00  1.194353e+00  1.098632e+00   \n",
       "min   -1.137433e+02 -2.616051e+01 -4.355724e+01 -7.321672e+01 -1.343407e+01   \n",
       "25%   -6.915971e-01 -7.682956e-01 -5.540759e-01 -2.086297e-01 -6.430976e-01   \n",
       "50%   -5.433583e-02 -2.741871e-01  4.010308e-02  2.235804e-02 -5.142873e-02   \n",
       "75%    6.119264e-01  3.985649e-01  5.704361e-01  3.273459e-01  5.971390e-01   \n",
       "max    3.480167e+01  7.330163e+01  1.205895e+02  2.000721e+01  1.559499e+01   \n",
       "\n",
       "       ...           V21           V22           V23           V24  \\\n",
       "count  ...  2.848070e+05  2.848070e+05  2.848070e+05  2.848070e+05   \n",
       "mean   ...  1.654067e-16 -3.568593e-16  2.578648e-16  4.473266e-15   \n",
       "std    ...  7.345240e-01  7.257016e-01  6.244603e-01  6.056471e-01   \n",
       "min    ... -3.483038e+01 -1.093314e+01 -4.480774e+01 -2.836627e+00   \n",
       "25%    ... -2.283949e-01 -5.423504e-01 -1.618463e-01 -3.545861e-01   \n",
       "50%    ... -2.945017e-02  6.781943e-03 -1.119293e-02  4.097606e-02   \n",
       "75%    ...  1.863772e-01  5.285536e-01  1.476421e-01  4.395266e-01   \n",
       "max    ...  2.720284e+01  1.050309e+01  2.252841e+01  4.584549e+00   \n",
       "\n",
       "                V25           V26           V27           V28         Amount  \\\n",
       "count  2.848070e+05  2.848070e+05  2.848070e+05  2.848070e+05  284807.000000   \n",
       "mean   5.340915e-16  1.683437e-15 -3.660091e-16 -1.227390e-16      88.349619   \n",
       "std    5.212781e-01  4.822270e-01  4.036325e-01  3.300833e-01     250.120109   \n",
       "min   -1.029540e+01 -2.604551e+00 -2.256568e+01 -1.543008e+01       0.000000   \n",
       "25%   -3.171451e-01 -3.269839e-01 -7.083953e-02 -5.295979e-02       5.600000   \n",
       "50%    1.659350e-02 -5.213911e-02  1.342146e-03  1.124383e-02      22.000000   \n",
       "75%    3.507156e-01  2.409522e-01  9.104512e-02  7.827995e-02      77.165000   \n",
       "max    7.519589e+00  3.517346e+00  3.161220e+01  3.384781e+01   25691.160000   \n",
       "\n",
       "               Class  \n",
       "count  284807.000000  \n",
       "mean        0.001727  \n",
       "std         0.041527  \n",
       "min         0.000000  \n",
       "25%         0.000000  \n",
       "50%         0.000000  \n",
       "75%         0.000000  \n",
       "max         1.000000  \n",
       "\n",
       "[8 rows x 31 columns]"
      ]
     },
     "execution_count": 12,
     "metadata": {},
     "output_type": "execute_result"
    }
   ],
   "source": [
    "df.describe()"
   ]
  },
  {
   "cell_type": "markdown",
   "id": "5982f474",
   "metadata": {
    "papermill": {
     "duration": 0.008876,
     "end_time": "2025-02-02T15:48:35.124653",
     "exception": false,
     "start_time": "2025-02-02T15:48:35.115777",
     "status": "completed"
    },
    "tags": []
   },
   "source": [
    "# Cleaning the Data"
   ]
  },
  {
   "cell_type": "code",
   "execution_count": 13,
   "id": "88399f0f",
   "metadata": {
    "execution": {
     "iopub.execute_input": "2025-02-02T15:48:35.144466Z",
     "iopub.status.busy": "2025-02-02T15:48:35.143988Z",
     "iopub.status.idle": "2025-02-02T15:48:35.962879Z",
     "shell.execute_reply": "2025-02-02T15:48:35.961655Z"
    },
    "papermill": {
     "duration": 0.831122,
     "end_time": "2025-02-02T15:48:35.964952",
     "exception": false,
     "start_time": "2025-02-02T15:48:35.133830",
     "status": "completed"
    },
    "tags": []
   },
   "outputs": [],
   "source": [
    "df = df.drop_duplicates()"
   ]
  },
  {
   "cell_type": "code",
   "execution_count": 14,
   "id": "faea515d",
   "metadata": {
    "execution": {
     "iopub.execute_input": "2025-02-02T15:48:35.985270Z",
     "iopub.status.busy": "2025-02-02T15:48:35.984900Z",
     "iopub.status.idle": "2025-02-02T15:48:36.026889Z",
     "shell.execute_reply": "2025-02-02T15:48:36.025654Z"
    },
    "papermill": {
     "duration": 0.054287,
     "end_time": "2025-02-02T15:48:36.028805",
     "exception": false,
     "start_time": "2025-02-02T15:48:35.974518",
     "status": "completed"
    },
    "tags": []
   },
   "outputs": [
    {
     "name": "stdout",
     "output_type": "stream",
     "text": [
      "<class 'pandas.core.frame.DataFrame'>\n",
      "Index: 283726 entries, 0 to 284806\n",
      "Data columns (total 31 columns):\n",
      " #   Column  Non-Null Count   Dtype  \n",
      "---  ------  --------------   -----  \n",
      " 0   Time    283726 non-null  float64\n",
      " 1   V1      283726 non-null  float64\n",
      " 2   V2      283726 non-null  float64\n",
      " 3   V3      283726 non-null  float64\n",
      " 4   V4      283726 non-null  float64\n",
      " 5   V5      283726 non-null  float64\n",
      " 6   V6      283726 non-null  float64\n",
      " 7   V7      283726 non-null  float64\n",
      " 8   V8      283726 non-null  float64\n",
      " 9   V9      283726 non-null  float64\n",
      " 10  V10     283726 non-null  float64\n",
      " 11  V11     283726 non-null  float64\n",
      " 12  V12     283726 non-null  float64\n",
      " 13  V13     283726 non-null  float64\n",
      " 14  V14     283726 non-null  float64\n",
      " 15  V15     283726 non-null  float64\n",
      " 16  V16     283726 non-null  float64\n",
      " 17  V17     283726 non-null  float64\n",
      " 18  V18     283726 non-null  float64\n",
      " 19  V19     283726 non-null  float64\n",
      " 20  V20     283726 non-null  float64\n",
      " 21  V21     283726 non-null  float64\n",
      " 22  V22     283726 non-null  float64\n",
      " 23  V23     283726 non-null  float64\n",
      " 24  V24     283726 non-null  float64\n",
      " 25  V25     283726 non-null  float64\n",
      " 26  V26     283726 non-null  float64\n",
      " 27  V27     283726 non-null  float64\n",
      " 28  V28     283726 non-null  float64\n",
      " 29  Amount  283726 non-null  float64\n",
      " 30  Class   283726 non-null  int64  \n",
      "dtypes: float64(30), int64(1)\n",
      "memory usage: 69.3 MB\n"
     ]
    }
   ],
   "source": [
    "df.info()"
   ]
  },
  {
   "cell_type": "markdown",
   "id": "9c69807b",
   "metadata": {
    "papermill": {
     "duration": 0.009534,
     "end_time": "2025-02-02T15:48:36.048004",
     "exception": false,
     "start_time": "2025-02-02T15:48:36.038470",
     "status": "completed"
    },
    "tags": []
   },
   "source": [
    "# Processing the Data"
   ]
  },
  {
   "cell_type": "code",
   "execution_count": 15,
   "id": "c5f1ab61",
   "metadata": {
    "execution": {
     "iopub.execute_input": "2025-02-02T15:48:36.069065Z",
     "iopub.status.busy": "2025-02-02T15:48:36.068739Z",
     "iopub.status.idle": "2025-02-02T15:48:36.110832Z",
     "shell.execute_reply": "2025-02-02T15:48:36.109843Z"
    },
    "papermill": {
     "duration": 0.054536,
     "end_time": "2025-02-02T15:48:36.112749",
     "exception": false,
     "start_time": "2025-02-02T15:48:36.058213",
     "status": "completed"
    },
    "tags": []
   },
   "outputs": [],
   "source": [
    "# separating the data for analysis\n",
    "legit = df[df.Class == 0]\n",
    "fraud = df[df.Class == 1]"
   ]
  },
  {
   "cell_type": "code",
   "execution_count": 16,
   "id": "2b054352",
   "metadata": {
    "execution": {
     "iopub.execute_input": "2025-02-02T15:48:36.133546Z",
     "iopub.status.busy": "2025-02-02T15:48:36.133130Z",
     "iopub.status.idle": "2025-02-02T15:48:36.137852Z",
     "shell.execute_reply": "2025-02-02T15:48:36.136597Z"
    },
    "papermill": {
     "duration": 0.017248,
     "end_time": "2025-02-02T15:48:36.139696",
     "exception": false,
     "start_time": "2025-02-02T15:48:36.122448",
     "status": "completed"
    },
    "tags": []
   },
   "outputs": [
    {
     "name": "stdout",
     "output_type": "stream",
     "text": [
      "(283253, 31)\n",
      "(473, 31)\n"
     ]
    }
   ],
   "source": [
    "print(legit.shape)\n",
    "print(fraud.shape)"
   ]
  },
  {
   "cell_type": "markdown",
   "id": "4de2fff1",
   "metadata": {
    "papermill": {
     "duration": 0.009224,
     "end_time": "2025-02-02T15:48:36.158571",
     "exception": false,
     "start_time": "2025-02-02T15:48:36.149347",
     "status": "completed"
    },
    "tags": []
   },
   "source": [
    "to determine the number of each class"
   ]
  },
  {
   "cell_type": "code",
   "execution_count": 17,
   "id": "89cc6e19",
   "metadata": {
    "execution": {
     "iopub.execute_input": "2025-02-02T15:48:36.178749Z",
     "iopub.status.busy": "2025-02-02T15:48:36.178341Z",
     "iopub.status.idle": "2025-02-02T15:48:36.199630Z",
     "shell.execute_reply": "2025-02-02T15:48:36.198494Z"
    },
    "papermill": {
     "duration": 0.033577,
     "end_time": "2025-02-02T15:48:36.201625",
     "exception": false,
     "start_time": "2025-02-02T15:48:36.168048",
     "status": "completed"
    },
    "tags": []
   },
   "outputs": [
    {
     "data": {
      "text/plain": [
       "count    283253.000000\n",
       "mean         88.413575\n",
       "std         250.379023\n",
       "min           0.000000\n",
       "25%           5.670000\n",
       "50%          22.000000\n",
       "75%          77.460000\n",
       "max       25691.160000\n",
       "Name: Amount, dtype: float64"
      ]
     },
     "execution_count": 17,
     "metadata": {},
     "output_type": "execute_result"
    }
   ],
   "source": [
    "# statistical measures of the data\n",
    "legit.Amount.describe()"
   ]
  },
  {
   "cell_type": "code",
   "execution_count": 18,
   "id": "0da444f1",
   "metadata": {
    "execution": {
     "iopub.execute_input": "2025-02-02T15:48:36.221939Z",
     "iopub.status.busy": "2025-02-02T15:48:36.221543Z",
     "iopub.status.idle": "2025-02-02T15:48:36.231101Z",
     "shell.execute_reply": "2025-02-02T15:48:36.229990Z"
    },
    "papermill": {
     "duration": 0.021593,
     "end_time": "2025-02-02T15:48:36.232756",
     "exception": false,
     "start_time": "2025-02-02T15:48:36.211163",
     "status": "completed"
    },
    "tags": []
   },
   "outputs": [
    {
     "data": {
      "text/plain": [
       "count     473.000000\n",
       "mean      123.871860\n",
       "std       260.211041\n",
       "min         0.000000\n",
       "25%         1.000000\n",
       "50%         9.820000\n",
       "75%       105.890000\n",
       "max      2125.870000\n",
       "Name: Amount, dtype: float64"
      ]
     },
     "execution_count": 18,
     "metadata": {},
     "output_type": "execute_result"
    }
   ],
   "source": [
    "fraud.Amount.describe()"
   ]
  },
  {
   "cell_type": "markdown",
   "id": "ba7905d9",
   "metadata": {
    "papermill": {
     "duration": 0.009166,
     "end_time": "2025-02-02T15:48:36.251783",
     "exception": false,
     "start_time": "2025-02-02T15:48:36.242617",
     "status": "completed"
    },
    "tags": []
   },
   "source": [
    "to determine the Stat measure to determine the relation between data"
   ]
  },
  {
   "cell_type": "code",
   "execution_count": 19,
   "id": "8e01db1c",
   "metadata": {
    "execution": {
     "iopub.execute_input": "2025-02-02T15:48:36.272193Z",
     "iopub.status.busy": "2025-02-02T15:48:36.271861Z",
     "iopub.status.idle": "2025-02-02T15:48:36.375396Z",
     "shell.execute_reply": "2025-02-02T15:48:36.374233Z"
    },
    "papermill": {
     "duration": 0.115741,
     "end_time": "2025-02-02T15:48:36.377148",
     "exception": false,
     "start_time": "2025-02-02T15:48:36.261407",
     "status": "completed"
    },
    "tags": []
   },
   "outputs": [
    {
     "data": {
      "text/html": [
       "<div>\n",
       "<style scoped>\n",
       "    .dataframe tbody tr th:only-of-type {\n",
       "        vertical-align: middle;\n",
       "    }\n",
       "\n",
       "    .dataframe tbody tr th {\n",
       "        vertical-align: top;\n",
       "    }\n",
       "\n",
       "    .dataframe thead th {\n",
       "        text-align: right;\n",
       "    }\n",
       "</style>\n",
       "<table border=\"1\" class=\"dataframe\">\n",
       "  <thead>\n",
       "    <tr style=\"text-align: right;\">\n",
       "      <th></th>\n",
       "      <th>Time</th>\n",
       "      <th>V1</th>\n",
       "      <th>V2</th>\n",
       "      <th>V3</th>\n",
       "      <th>V4</th>\n",
       "      <th>V5</th>\n",
       "      <th>V6</th>\n",
       "      <th>V7</th>\n",
       "      <th>V8</th>\n",
       "      <th>V9</th>\n",
       "      <th>...</th>\n",
       "      <th>V20</th>\n",
       "      <th>V21</th>\n",
       "      <th>V22</th>\n",
       "      <th>V23</th>\n",
       "      <th>V24</th>\n",
       "      <th>V25</th>\n",
       "      <th>V26</th>\n",
       "      <th>V27</th>\n",
       "      <th>V28</th>\n",
       "      <th>Amount</th>\n",
       "    </tr>\n",
       "    <tr>\n",
       "      <th>Class</th>\n",
       "      <th></th>\n",
       "      <th></th>\n",
       "      <th></th>\n",
       "      <th></th>\n",
       "      <th></th>\n",
       "      <th></th>\n",
       "      <th></th>\n",
       "      <th></th>\n",
       "      <th></th>\n",
       "      <th></th>\n",
       "      <th></th>\n",
       "      <th></th>\n",
       "      <th></th>\n",
       "      <th></th>\n",
       "      <th></th>\n",
       "      <th></th>\n",
       "      <th></th>\n",
       "      <th></th>\n",
       "      <th></th>\n",
       "      <th></th>\n",
       "      <th></th>\n",
       "    </tr>\n",
       "  </thead>\n",
       "  <tbody>\n",
       "    <tr>\n",
       "      <th>0</th>\n",
       "      <td>94835.058093</td>\n",
       "      <td>0.013439</td>\n",
       "      <td>-0.009829</td>\n",
       "      <td>0.012853</td>\n",
       "      <td>-0.010440</td>\n",
       "      <td>0.006769</td>\n",
       "      <td>0.001251</td>\n",
       "      <td>0.010447</td>\n",
       "      <td>-0.002448</td>\n",
       "      <td>0.002613</td>\n",
       "      <td>...</td>\n",
       "      <td>-0.000489</td>\n",
       "      <td>-0.00115</td>\n",
       "      <td>-0.000160</td>\n",
       "      <td>0.000360</td>\n",
       "      <td>0.000393</td>\n",
       "      <td>-0.000301</td>\n",
       "      <td>0.000065</td>\n",
       "      <td>0.001409</td>\n",
       "      <td>0.000418</td>\n",
       "      <td>88.413575</td>\n",
       "    </tr>\n",
       "    <tr>\n",
       "      <th>1</th>\n",
       "      <td>80450.513742</td>\n",
       "      <td>-4.498280</td>\n",
       "      <td>3.405965</td>\n",
       "      <td>-6.729599</td>\n",
       "      <td>4.472591</td>\n",
       "      <td>-2.957197</td>\n",
       "      <td>-1.432518</td>\n",
       "      <td>-5.175912</td>\n",
       "      <td>0.953255</td>\n",
       "      <td>-2.522124</td>\n",
       "      <td>...</td>\n",
       "      <td>0.405043</td>\n",
       "      <td>0.46655</td>\n",
       "      <td>0.086639</td>\n",
       "      <td>-0.096464</td>\n",
       "      <td>-0.106643</td>\n",
       "      <td>0.040615</td>\n",
       "      <td>0.050456</td>\n",
       "      <td>0.213774</td>\n",
       "      <td>0.078270</td>\n",
       "      <td>123.871860</td>\n",
       "    </tr>\n",
       "  </tbody>\n",
       "</table>\n",
       "<p>2 rows × 30 columns</p>\n",
       "</div>"
      ],
      "text/plain": [
       "               Time        V1        V2        V3        V4        V5  \\\n",
       "Class                                                                   \n",
       "0      94835.058093  0.013439 -0.009829  0.012853 -0.010440  0.006769   \n",
       "1      80450.513742 -4.498280  3.405965 -6.729599  4.472591 -2.957197   \n",
       "\n",
       "             V6        V7        V8        V9  ...       V20      V21  \\\n",
       "Class                                          ...                      \n",
       "0      0.001251  0.010447 -0.002448  0.002613  ... -0.000489 -0.00115   \n",
       "1     -1.432518 -5.175912  0.953255 -2.522124  ...  0.405043  0.46655   \n",
       "\n",
       "            V22       V23       V24       V25       V26       V27       V28  \\\n",
       "Class                                                                         \n",
       "0     -0.000160  0.000360  0.000393 -0.000301  0.000065  0.001409  0.000418   \n",
       "1      0.086639 -0.096464 -0.106643  0.040615  0.050456  0.213774  0.078270   \n",
       "\n",
       "           Amount  \n",
       "Class              \n",
       "0       88.413575  \n",
       "1      123.871860  \n",
       "\n",
       "[2 rows x 30 columns]"
      ]
     },
     "execution_count": 19,
     "metadata": {},
     "output_type": "execute_result"
    }
   ],
   "source": [
    "# compare the values for both transactions\n",
    "df.groupby('Class').mean()"
   ]
  },
  {
   "cell_type": "markdown",
   "id": "6be1a66f",
   "metadata": {
    "papermill": {
     "duration": 0.010517,
     "end_time": "2025-02-02T15:48:36.397792",
     "exception": false,
     "start_time": "2025-02-02T15:48:36.387275",
     "status": "completed"
    },
    "tags": []
   },
   "source": [
    "Under-Sampling\n",
    "\n",
    "Build a sample dataset containing similar distribution of normal transactions and Fraudulent Transactions\n",
    "\n",
    "Number of Fraudulent Transactions --> 492"
   ]
  },
  {
   "cell_type": "code",
   "execution_count": 20,
   "id": "8018cdf9",
   "metadata": {
    "execution": {
     "iopub.execute_input": "2025-02-02T15:48:36.418570Z",
     "iopub.status.busy": "2025-02-02T15:48:36.418144Z",
     "iopub.status.idle": "2025-02-02T15:48:36.431790Z",
     "shell.execute_reply": "2025-02-02T15:48:36.430848Z"
    },
    "papermill": {
     "duration": 0.026108,
     "end_time": "2025-02-02T15:48:36.433637",
     "exception": false,
     "start_time": "2025-02-02T15:48:36.407529",
     "status": "completed"
    },
    "tags": []
   },
   "outputs": [],
   "source": [
    "legit_sample = legit.sample(n=473)"
   ]
  },
  {
   "cell_type": "markdown",
   "id": "0ce41346",
   "metadata": {
    "papermill": {
     "duration": 0.009504,
     "end_time": "2025-02-02T15:48:36.453247",
     "exception": false,
     "start_time": "2025-02-02T15:48:36.443743",
     "status": "completed"
    },
    "tags": []
   },
   "source": [
    "Select sample from data to make the data balanced amd enter the data to ML model"
   ]
  },
  {
   "cell_type": "code",
   "execution_count": 21,
   "id": "015bc205",
   "metadata": {
    "execution": {
     "iopub.execute_input": "2025-02-02T15:48:36.474442Z",
     "iopub.status.busy": "2025-02-02T15:48:36.474044Z",
     "iopub.status.idle": "2025-02-02T15:48:36.479670Z",
     "shell.execute_reply": "2025-02-02T15:48:36.478604Z"
    },
    "papermill": {
     "duration": 0.018496,
     "end_time": "2025-02-02T15:48:36.481501",
     "exception": false,
     "start_time": "2025-02-02T15:48:36.463005",
     "status": "completed"
    },
    "tags": []
   },
   "outputs": [],
   "source": [
    "new_dataset = pd.concat([legit_sample, fraud], axis=0)"
   ]
  },
  {
   "cell_type": "code",
   "execution_count": 22,
   "id": "e7f656a2",
   "metadata": {
    "execution": {
     "iopub.execute_input": "2025-02-02T15:48:36.503186Z",
     "iopub.status.busy": "2025-02-02T15:48:36.502866Z",
     "iopub.status.idle": "2025-02-02T15:48:36.509581Z",
     "shell.execute_reply": "2025-02-02T15:48:36.508661Z"
    },
    "papermill": {
     "duration": 0.018781,
     "end_time": "2025-02-02T15:48:36.510993",
     "exception": false,
     "start_time": "2025-02-02T15:48:36.492212",
     "status": "completed"
    },
    "tags": []
   },
   "outputs": [
    {
     "data": {
      "text/plain": [
       "Class\n",
       "0    473\n",
       "1    473\n",
       "Name: count, dtype: int64"
      ]
     },
     "execution_count": 22,
     "metadata": {},
     "output_type": "execute_result"
    }
   ],
   "source": [
    "new_dataset['Class'].value_counts()"
   ]
  },
  {
   "cell_type": "code",
   "execution_count": 23,
   "id": "dd6ff7af",
   "metadata": {
    "execution": {
     "iopub.execute_input": "2025-02-02T15:48:36.532092Z",
     "iopub.status.busy": "2025-02-02T15:48:36.531752Z",
     "iopub.status.idle": "2025-02-02T15:48:36.553899Z",
     "shell.execute_reply": "2025-02-02T15:48:36.552643Z"
    },
    "papermill": {
     "duration": 0.034731,
     "end_time": "2025-02-02T15:48:36.555780",
     "exception": false,
     "start_time": "2025-02-02T15:48:36.521049",
     "status": "completed"
    },
    "tags": []
   },
   "outputs": [
    {
     "data": {
      "text/html": [
       "<div>\n",
       "<style scoped>\n",
       "    .dataframe tbody tr th:only-of-type {\n",
       "        vertical-align: middle;\n",
       "    }\n",
       "\n",
       "    .dataframe tbody tr th {\n",
       "        vertical-align: top;\n",
       "    }\n",
       "\n",
       "    .dataframe thead th {\n",
       "        text-align: right;\n",
       "    }\n",
       "</style>\n",
       "<table border=\"1\" class=\"dataframe\">\n",
       "  <thead>\n",
       "    <tr style=\"text-align: right;\">\n",
       "      <th></th>\n",
       "      <th>Time</th>\n",
       "      <th>V1</th>\n",
       "      <th>V2</th>\n",
       "      <th>V3</th>\n",
       "      <th>V4</th>\n",
       "      <th>V5</th>\n",
       "      <th>V6</th>\n",
       "      <th>V7</th>\n",
       "      <th>V8</th>\n",
       "      <th>V9</th>\n",
       "      <th>...</th>\n",
       "      <th>V21</th>\n",
       "      <th>V22</th>\n",
       "      <th>V23</th>\n",
       "      <th>V24</th>\n",
       "      <th>V25</th>\n",
       "      <th>V26</th>\n",
       "      <th>V27</th>\n",
       "      <th>V28</th>\n",
       "      <th>Amount</th>\n",
       "      <th>Class</th>\n",
       "    </tr>\n",
       "  </thead>\n",
       "  <tbody>\n",
       "    <tr>\n",
       "      <th>263953</th>\n",
       "      <td>161195.0</td>\n",
       "      <td>-0.700140</td>\n",
       "      <td>-0.528902</td>\n",
       "      <td>0.418749</td>\n",
       "      <td>-2.578750</td>\n",
       "      <td>-0.357075</td>\n",
       "      <td>-0.386954</td>\n",
       "      <td>-0.559190</td>\n",
       "      <td>0.019672</td>\n",
       "      <td>-1.913126</td>\n",
       "      <td>...</td>\n",
       "      <td>-0.072606</td>\n",
       "      <td>0.249008</td>\n",
       "      <td>-0.239095</td>\n",
       "      <td>0.496597</td>\n",
       "      <td>-0.602864</td>\n",
       "      <td>-0.325313</td>\n",
       "      <td>-0.270722</td>\n",
       "      <td>-0.190731</td>\n",
       "      <td>16.00</td>\n",
       "      <td>0</td>\n",
       "    </tr>\n",
       "    <tr>\n",
       "      <th>242171</th>\n",
       "      <td>151373.0</td>\n",
       "      <td>1.654590</td>\n",
       "      <td>-0.544977</td>\n",
       "      <td>-1.391681</td>\n",
       "      <td>0.858951</td>\n",
       "      <td>0.633615</td>\n",
       "      <td>1.419436</td>\n",
       "      <td>-0.385589</td>\n",
       "      <td>0.368664</td>\n",
       "      <td>1.108228</td>\n",
       "      <td>...</td>\n",
       "      <td>0.320503</td>\n",
       "      <td>1.427246</td>\n",
       "      <td>-0.065530</td>\n",
       "      <td>-1.415817</td>\n",
       "      <td>-0.008967</td>\n",
       "      <td>0.795199</td>\n",
       "      <td>0.054215</td>\n",
       "      <td>-0.036300</td>\n",
       "      <td>89.96</td>\n",
       "      <td>0</td>\n",
       "    </tr>\n",
       "    <tr>\n",
       "      <th>257517</th>\n",
       "      <td>158203.0</td>\n",
       "      <td>-0.331653</td>\n",
       "      <td>1.620811</td>\n",
       "      <td>-0.810616</td>\n",
       "      <td>3.328887</td>\n",
       "      <td>2.879104</td>\n",
       "      <td>4.646816</td>\n",
       "      <td>-0.233350</td>\n",
       "      <td>1.520314</td>\n",
       "      <td>-2.327748</td>\n",
       "      <td>...</td>\n",
       "      <td>-0.156126</td>\n",
       "      <td>-0.515260</td>\n",
       "      <td>0.185820</td>\n",
       "      <td>0.651329</td>\n",
       "      <td>-0.878125</td>\n",
       "      <td>0.059889</td>\n",
       "      <td>0.368722</td>\n",
       "      <td>0.201119</td>\n",
       "      <td>1.99</td>\n",
       "      <td>0</td>\n",
       "    </tr>\n",
       "    <tr>\n",
       "      <th>33037</th>\n",
       "      <td>37064.0</td>\n",
       "      <td>-1.176660</td>\n",
       "      <td>-0.290410</td>\n",
       "      <td>1.869386</td>\n",
       "      <td>0.075558</td>\n",
       "      <td>-0.032172</td>\n",
       "      <td>1.408955</td>\n",
       "      <td>-0.817100</td>\n",
       "      <td>0.886342</td>\n",
       "      <td>0.604217</td>\n",
       "      <td>...</td>\n",
       "      <td>0.010066</td>\n",
       "      <td>0.343498</td>\n",
       "      <td>0.200423</td>\n",
       "      <td>-0.537393</td>\n",
       "      <td>-0.722772</td>\n",
       "      <td>1.069157</td>\n",
       "      <td>-0.352273</td>\n",
       "      <td>-0.295056</td>\n",
       "      <td>17.33</td>\n",
       "      <td>0</td>\n",
       "    </tr>\n",
       "    <tr>\n",
       "      <th>121446</th>\n",
       "      <td>76193.0</td>\n",
       "      <td>0.994252</td>\n",
       "      <td>-0.863214</td>\n",
       "      <td>0.659271</td>\n",
       "      <td>-0.018568</td>\n",
       "      <td>-0.745798</td>\n",
       "      <td>0.884460</td>\n",
       "      <td>-0.791923</td>\n",
       "      <td>0.425853</td>\n",
       "      <td>1.147418</td>\n",
       "      <td>...</td>\n",
       "      <td>-0.161880</td>\n",
       "      <td>-0.474966</td>\n",
       "      <td>-0.078557</td>\n",
       "      <td>-0.758222</td>\n",
       "      <td>0.071888</td>\n",
       "      <td>0.999428</td>\n",
       "      <td>-0.047384</td>\n",
       "      <td>0.007027</td>\n",
       "      <td>106.04</td>\n",
       "      <td>0</td>\n",
       "    </tr>\n",
       "  </tbody>\n",
       "</table>\n",
       "<p>5 rows × 31 columns</p>\n",
       "</div>"
      ],
      "text/plain": [
       "            Time        V1        V2        V3        V4        V5        V6  \\\n",
       "263953  161195.0 -0.700140 -0.528902  0.418749 -2.578750 -0.357075 -0.386954   \n",
       "242171  151373.0  1.654590 -0.544977 -1.391681  0.858951  0.633615  1.419436   \n",
       "257517  158203.0 -0.331653  1.620811 -0.810616  3.328887  2.879104  4.646816   \n",
       "33037    37064.0 -1.176660 -0.290410  1.869386  0.075558 -0.032172  1.408955   \n",
       "121446   76193.0  0.994252 -0.863214  0.659271 -0.018568 -0.745798  0.884460   \n",
       "\n",
       "              V7        V8        V9  ...       V21       V22       V23  \\\n",
       "263953 -0.559190  0.019672 -1.913126  ... -0.072606  0.249008 -0.239095   \n",
       "242171 -0.385589  0.368664  1.108228  ...  0.320503  1.427246 -0.065530   \n",
       "257517 -0.233350  1.520314 -2.327748  ... -0.156126 -0.515260  0.185820   \n",
       "33037  -0.817100  0.886342  0.604217  ...  0.010066  0.343498  0.200423   \n",
       "121446 -0.791923  0.425853  1.147418  ... -0.161880 -0.474966 -0.078557   \n",
       "\n",
       "             V24       V25       V26       V27       V28  Amount  Class  \n",
       "263953  0.496597 -0.602864 -0.325313 -0.270722 -0.190731   16.00      0  \n",
       "242171 -1.415817 -0.008967  0.795199  0.054215 -0.036300   89.96      0  \n",
       "257517  0.651329 -0.878125  0.059889  0.368722  0.201119    1.99      0  \n",
       "33037  -0.537393 -0.722772  1.069157 -0.352273 -0.295056   17.33      0  \n",
       "121446 -0.758222  0.071888  0.999428 -0.047384  0.007027  106.04      0  \n",
       "\n",
       "[5 rows x 31 columns]"
      ]
     },
     "execution_count": 23,
     "metadata": {},
     "output_type": "execute_result"
    }
   ],
   "source": [
    "new_dataset.head()"
   ]
  },
  {
   "cell_type": "code",
   "execution_count": 24,
   "id": "7c481120",
   "metadata": {
    "execution": {
     "iopub.execute_input": "2025-02-02T15:48:36.579991Z",
     "iopub.status.busy": "2025-02-02T15:48:36.579654Z",
     "iopub.status.idle": "2025-02-02T15:48:36.585186Z",
     "shell.execute_reply": "2025-02-02T15:48:36.584234Z"
    },
    "papermill": {
     "duration": 0.020849,
     "end_time": "2025-02-02T15:48:36.586912",
     "exception": false,
     "start_time": "2025-02-02T15:48:36.566063",
     "status": "completed"
    },
    "tags": []
   },
   "outputs": [
    {
     "data": {
      "text/plain": [
       "(946, 31)"
      ]
     },
     "execution_count": 24,
     "metadata": {},
     "output_type": "execute_result"
    }
   ],
   "source": [
    "new_dataset.shape"
   ]
  },
  {
   "cell_type": "markdown",
   "id": "552ca1e0",
   "metadata": {
    "papermill": {
     "duration": 0.009979,
     "end_time": "2025-02-02T15:48:36.607406",
     "exception": false,
     "start_time": "2025-02-02T15:48:36.597427",
     "status": "completed"
    },
    "tags": []
   },
   "source": [
    "Now the data are balanced"
   ]
  },
  {
   "cell_type": "markdown",
   "id": "f28477aa",
   "metadata": {
    "papermill": {
     "duration": 0.009878,
     "end_time": "2025-02-02T15:48:36.627504",
     "exception": false,
     "start_time": "2025-02-02T15:48:36.617626",
     "status": "completed"
    },
    "tags": []
   },
   "source": [
    "# Splitting the data"
   ]
  },
  {
   "cell_type": "code",
   "execution_count": 25,
   "id": "65ed0cdf",
   "metadata": {
    "execution": {
     "iopub.execute_input": "2025-02-02T15:48:36.649179Z",
     "iopub.status.busy": "2025-02-02T15:48:36.648808Z",
     "iopub.status.idle": "2025-02-02T15:48:36.654773Z",
     "shell.execute_reply": "2025-02-02T15:48:36.653566Z"
    },
    "papermill": {
     "duration": 0.018888,
     "end_time": "2025-02-02T15:48:36.656554",
     "exception": false,
     "start_time": "2025-02-02T15:48:36.637666",
     "status": "completed"
    },
    "tags": []
   },
   "outputs": [],
   "source": [
    "X = new_dataset.drop(columns='Class', axis=1)\n",
    "Y = new_dataset['Class']"
   ]
  },
  {
   "cell_type": "code",
   "execution_count": 26,
   "id": "713fa422",
   "metadata": {
    "execution": {
     "iopub.execute_input": "2025-02-02T15:48:36.678786Z",
     "iopub.status.busy": "2025-02-02T15:48:36.678114Z",
     "iopub.status.idle": "2025-02-02T15:48:36.687786Z",
     "shell.execute_reply": "2025-02-02T15:48:36.686641Z"
    },
    "papermill": {
     "duration": 0.02253,
     "end_time": "2025-02-02T15:48:36.689518",
     "exception": false,
     "start_time": "2025-02-02T15:48:36.666988",
     "status": "completed"
    },
    "tags": []
   },
   "outputs": [],
   "source": [
    "X_train, X_test, Y_train, Y_test = train_test_split(X, Y, test_size=0.2, stratify=Y, random_state=2)"
   ]
  },
  {
   "cell_type": "code",
   "execution_count": 27,
   "id": "ff66e039",
   "metadata": {
    "execution": {
     "iopub.execute_input": "2025-02-02T15:48:36.711488Z",
     "iopub.status.busy": "2025-02-02T15:48:36.710995Z",
     "iopub.status.idle": "2025-02-02T15:48:36.716655Z",
     "shell.execute_reply": "2025-02-02T15:48:36.715446Z"
    },
    "papermill": {
     "duration": 0.018373,
     "end_time": "2025-02-02T15:48:36.718249",
     "exception": false,
     "start_time": "2025-02-02T15:48:36.699876",
     "status": "completed"
    },
    "tags": []
   },
   "outputs": [
    {
     "name": "stdout",
     "output_type": "stream",
     "text": [
      "(946, 30) (756, 30) (190, 30)\n"
     ]
    }
   ],
   "source": [
    "print(X.shape, X_train.shape, X_test.shape)"
   ]
  },
  {
   "cell_type": "markdown",
   "id": "2fc517f8",
   "metadata": {
    "papermill": {
     "duration": 0.00998,
     "end_time": "2025-02-02T15:48:36.738766",
     "exception": false,
     "start_time": "2025-02-02T15:48:36.728786",
     "status": "completed"
    },
    "tags": []
   },
   "source": [
    "# Model Training\n",
    "\n",
    "Logistic Regression"
   ]
  },
  {
   "cell_type": "code",
   "execution_count": 28,
   "id": "04ac1698",
   "metadata": {
    "execution": {
     "iopub.execute_input": "2025-02-02T15:48:36.760657Z",
     "iopub.status.busy": "2025-02-02T15:48:36.760104Z",
     "iopub.status.idle": "2025-02-02T15:48:36.764307Z",
     "shell.execute_reply": "2025-02-02T15:48:36.763417Z"
    },
    "papermill": {
     "duration": 0.017002,
     "end_time": "2025-02-02T15:48:36.765980",
     "exception": false,
     "start_time": "2025-02-02T15:48:36.748978",
     "status": "completed"
    },
    "tags": []
   },
   "outputs": [],
   "source": [
    "model = LogisticRegression()"
   ]
  },
  {
   "cell_type": "code",
   "execution_count": 29,
   "id": "d088cb9a",
   "metadata": {
    "execution": {
     "iopub.execute_input": "2025-02-02T15:48:36.788059Z",
     "iopub.status.busy": "2025-02-02T15:48:36.787685Z",
     "iopub.status.idle": "2025-02-02T15:48:36.834186Z",
     "shell.execute_reply": "2025-02-02T15:48:36.832925Z"
    },
    "papermill": {
     "duration": 0.059621,
     "end_time": "2025-02-02T15:48:36.836159",
     "exception": false,
     "start_time": "2025-02-02T15:48:36.776538",
     "status": "completed"
    },
    "tags": []
   },
   "outputs": [
    {
     "name": "stderr",
     "output_type": "stream",
     "text": [
      "C:\\Users\\HP\\AppData\\Roaming\\Python\\Python312\\site-packages\\sklearn\\linear_model\\_logistic.py:469: ConvergenceWarning: lbfgs failed to converge (status=1):\n",
      "STOP: TOTAL NO. of ITERATIONS REACHED LIMIT.\n",
      "\n",
      "Increase the number of iterations (max_iter) or scale the data as shown in:\n",
      "    https://scikit-learn.org/stable/modules/preprocessing.html\n",
      "Please also refer to the documentation for alternative solver options:\n",
      "    https://scikit-learn.org/stable/modules/linear_model.html#logistic-regression\n",
      "  n_iter_i = _check_optimize_result(\n"
     ]
    },
    {
     "data": {
      "text/html": [
       "<style>#sk-container-id-1 {\n",
       "  /* Definition of color scheme common for light and dark mode */\n",
       "  --sklearn-color-text: black;\n",
       "  --sklearn-color-line: gray;\n",
       "  /* Definition of color scheme for unfitted estimators */\n",
       "  --sklearn-color-unfitted-level-0: #fff5e6;\n",
       "  --sklearn-color-unfitted-level-1: #f6e4d2;\n",
       "  --sklearn-color-unfitted-level-2: #ffe0b3;\n",
       "  --sklearn-color-unfitted-level-3: chocolate;\n",
       "  /* Definition of color scheme for fitted estimators */\n",
       "  --sklearn-color-fitted-level-0: #f0f8ff;\n",
       "  --sklearn-color-fitted-level-1: #d4ebff;\n",
       "  --sklearn-color-fitted-level-2: #b3dbfd;\n",
       "  --sklearn-color-fitted-level-3: cornflowerblue;\n",
       "\n",
       "  /* Specific color for light theme */\n",
       "  --sklearn-color-text-on-default-background: var(--sg-text-color, var(--theme-code-foreground, var(--jp-content-font-color1, black)));\n",
       "  --sklearn-color-background: var(--sg-background-color, var(--theme-background, var(--jp-layout-color0, white)));\n",
       "  --sklearn-color-border-box: var(--sg-text-color, var(--theme-code-foreground, var(--jp-content-font-color1, black)));\n",
       "  --sklearn-color-icon: #696969;\n",
       "\n",
       "  @media (prefers-color-scheme: dark) {\n",
       "    /* Redefinition of color scheme for dark theme */\n",
       "    --sklearn-color-text-on-default-background: var(--sg-text-color, var(--theme-code-foreground, var(--jp-content-font-color1, white)));\n",
       "    --sklearn-color-background: var(--sg-background-color, var(--theme-background, var(--jp-layout-color0, #111)));\n",
       "    --sklearn-color-border-box: var(--sg-text-color, var(--theme-code-foreground, var(--jp-content-font-color1, white)));\n",
       "    --sklearn-color-icon: #878787;\n",
       "  }\n",
       "}\n",
       "\n",
       "#sk-container-id-1 {\n",
       "  color: var(--sklearn-color-text);\n",
       "}\n",
       "\n",
       "#sk-container-id-1 pre {\n",
       "  padding: 0;\n",
       "}\n",
       "\n",
       "#sk-container-id-1 input.sk-hidden--visually {\n",
       "  border: 0;\n",
       "  clip: rect(1px 1px 1px 1px);\n",
       "  clip: rect(1px, 1px, 1px, 1px);\n",
       "  height: 1px;\n",
       "  margin: -1px;\n",
       "  overflow: hidden;\n",
       "  padding: 0;\n",
       "  position: absolute;\n",
       "  width: 1px;\n",
       "}\n",
       "\n",
       "#sk-container-id-1 div.sk-dashed-wrapped {\n",
       "  border: 1px dashed var(--sklearn-color-line);\n",
       "  margin: 0 0.4em 0.5em 0.4em;\n",
       "  box-sizing: border-box;\n",
       "  padding-bottom: 0.4em;\n",
       "  background-color: var(--sklearn-color-background);\n",
       "}\n",
       "\n",
       "#sk-container-id-1 div.sk-container {\n",
       "  /* jupyter's `normalize.less` sets `[hidden] { display: none; }`\n",
       "     but bootstrap.min.css set `[hidden] { display: none !important; }`\n",
       "     so we also need the `!important` here to be able to override the\n",
       "     default hidden behavior on the sphinx rendered scikit-learn.org.\n",
       "     See: https://github.com/scikit-learn/scikit-learn/issues/21755 */\n",
       "  display: inline-block !important;\n",
       "  position: relative;\n",
       "}\n",
       "\n",
       "#sk-container-id-1 div.sk-text-repr-fallback {\n",
       "  display: none;\n",
       "}\n",
       "\n",
       "div.sk-parallel-item,\n",
       "div.sk-serial,\n",
       "div.sk-item {\n",
       "  /* draw centered vertical line to link estimators */\n",
       "  background-image: linear-gradient(var(--sklearn-color-text-on-default-background), var(--sklearn-color-text-on-default-background));\n",
       "  background-size: 2px 100%;\n",
       "  background-repeat: no-repeat;\n",
       "  background-position: center center;\n",
       "}\n",
       "\n",
       "/* Parallel-specific style estimator block */\n",
       "\n",
       "#sk-container-id-1 div.sk-parallel-item::after {\n",
       "  content: \"\";\n",
       "  width: 100%;\n",
       "  border-bottom: 2px solid var(--sklearn-color-text-on-default-background);\n",
       "  flex-grow: 1;\n",
       "}\n",
       "\n",
       "#sk-container-id-1 div.sk-parallel {\n",
       "  display: flex;\n",
       "  align-items: stretch;\n",
       "  justify-content: center;\n",
       "  background-color: var(--sklearn-color-background);\n",
       "  position: relative;\n",
       "}\n",
       "\n",
       "#sk-container-id-1 div.sk-parallel-item {\n",
       "  display: flex;\n",
       "  flex-direction: column;\n",
       "}\n",
       "\n",
       "#sk-container-id-1 div.sk-parallel-item:first-child::after {\n",
       "  align-self: flex-end;\n",
       "  width: 50%;\n",
       "}\n",
       "\n",
       "#sk-container-id-1 div.sk-parallel-item:last-child::after {\n",
       "  align-self: flex-start;\n",
       "  width: 50%;\n",
       "}\n",
       "\n",
       "#sk-container-id-1 div.sk-parallel-item:only-child::after {\n",
       "  width: 0;\n",
       "}\n",
       "\n",
       "/* Serial-specific style estimator block */\n",
       "\n",
       "#sk-container-id-1 div.sk-serial {\n",
       "  display: flex;\n",
       "  flex-direction: column;\n",
       "  align-items: center;\n",
       "  background-color: var(--sklearn-color-background);\n",
       "  padding-right: 1em;\n",
       "  padding-left: 1em;\n",
       "}\n",
       "\n",
       "\n",
       "/* Toggleable style: style used for estimator/Pipeline/ColumnTransformer box that is\n",
       "clickable and can be expanded/collapsed.\n",
       "- Pipeline and ColumnTransformer use this feature and define the default style\n",
       "- Estimators will overwrite some part of the style using the `sk-estimator` class\n",
       "*/\n",
       "\n",
       "/* Pipeline and ColumnTransformer style (default) */\n",
       "\n",
       "#sk-container-id-1 div.sk-toggleable {\n",
       "  /* Default theme specific background. It is overwritten whether we have a\n",
       "  specific estimator or a Pipeline/ColumnTransformer */\n",
       "  background-color: var(--sklearn-color-background);\n",
       "}\n",
       "\n",
       "/* Toggleable label */\n",
       "#sk-container-id-1 label.sk-toggleable__label {\n",
       "  cursor: pointer;\n",
       "  display: block;\n",
       "  width: 100%;\n",
       "  margin-bottom: 0;\n",
       "  padding: 0.5em;\n",
       "  box-sizing: border-box;\n",
       "  text-align: center;\n",
       "}\n",
       "\n",
       "#sk-container-id-1 label.sk-toggleable__label-arrow:before {\n",
       "  /* Arrow on the left of the label */\n",
       "  content: \"▸\";\n",
       "  float: left;\n",
       "  margin-right: 0.25em;\n",
       "  color: var(--sklearn-color-icon);\n",
       "}\n",
       "\n",
       "#sk-container-id-1 label.sk-toggleable__label-arrow:hover:before {\n",
       "  color: var(--sklearn-color-text);\n",
       "}\n",
       "\n",
       "/* Toggleable content - dropdown */\n",
       "\n",
       "#sk-container-id-1 div.sk-toggleable__content {\n",
       "  max-height: 0;\n",
       "  max-width: 0;\n",
       "  overflow: hidden;\n",
       "  text-align: left;\n",
       "  /* unfitted */\n",
       "  background-color: var(--sklearn-color-unfitted-level-0);\n",
       "}\n",
       "\n",
       "#sk-container-id-1 div.sk-toggleable__content.fitted {\n",
       "  /* fitted */\n",
       "  background-color: var(--sklearn-color-fitted-level-0);\n",
       "}\n",
       "\n",
       "#sk-container-id-1 div.sk-toggleable__content pre {\n",
       "  margin: 0.2em;\n",
       "  border-radius: 0.25em;\n",
       "  color: var(--sklearn-color-text);\n",
       "  /* unfitted */\n",
       "  background-color: var(--sklearn-color-unfitted-level-0);\n",
       "}\n",
       "\n",
       "#sk-container-id-1 div.sk-toggleable__content.fitted pre {\n",
       "  /* unfitted */\n",
       "  background-color: var(--sklearn-color-fitted-level-0);\n",
       "}\n",
       "\n",
       "#sk-container-id-1 input.sk-toggleable__control:checked~div.sk-toggleable__content {\n",
       "  /* Expand drop-down */\n",
       "  max-height: 200px;\n",
       "  max-width: 100%;\n",
       "  overflow: auto;\n",
       "}\n",
       "\n",
       "#sk-container-id-1 input.sk-toggleable__control:checked~label.sk-toggleable__label-arrow:before {\n",
       "  content: \"▾\";\n",
       "}\n",
       "\n",
       "/* Pipeline/ColumnTransformer-specific style */\n",
       "\n",
       "#sk-container-id-1 div.sk-label input.sk-toggleable__control:checked~label.sk-toggleable__label {\n",
       "  color: var(--sklearn-color-text);\n",
       "  background-color: var(--sklearn-color-unfitted-level-2);\n",
       "}\n",
       "\n",
       "#sk-container-id-1 div.sk-label.fitted input.sk-toggleable__control:checked~label.sk-toggleable__label {\n",
       "  background-color: var(--sklearn-color-fitted-level-2);\n",
       "}\n",
       "\n",
       "/* Estimator-specific style */\n",
       "\n",
       "/* Colorize estimator box */\n",
       "#sk-container-id-1 div.sk-estimator input.sk-toggleable__control:checked~label.sk-toggleable__label {\n",
       "  /* unfitted */\n",
       "  background-color: var(--sklearn-color-unfitted-level-2);\n",
       "}\n",
       "\n",
       "#sk-container-id-1 div.sk-estimator.fitted input.sk-toggleable__control:checked~label.sk-toggleable__label {\n",
       "  /* fitted */\n",
       "  background-color: var(--sklearn-color-fitted-level-2);\n",
       "}\n",
       "\n",
       "#sk-container-id-1 div.sk-label label.sk-toggleable__label,\n",
       "#sk-container-id-1 div.sk-label label {\n",
       "  /* The background is the default theme color */\n",
       "  color: var(--sklearn-color-text-on-default-background);\n",
       "}\n",
       "\n",
       "/* On hover, darken the color of the background */\n",
       "#sk-container-id-1 div.sk-label:hover label.sk-toggleable__label {\n",
       "  color: var(--sklearn-color-text);\n",
       "  background-color: var(--sklearn-color-unfitted-level-2);\n",
       "}\n",
       "\n",
       "/* Label box, darken color on hover, fitted */\n",
       "#sk-container-id-1 div.sk-label.fitted:hover label.sk-toggleable__label.fitted {\n",
       "  color: var(--sklearn-color-text);\n",
       "  background-color: var(--sklearn-color-fitted-level-2);\n",
       "}\n",
       "\n",
       "/* Estimator label */\n",
       "\n",
       "#sk-container-id-1 div.sk-label label {\n",
       "  font-family: monospace;\n",
       "  font-weight: bold;\n",
       "  display: inline-block;\n",
       "  line-height: 1.2em;\n",
       "}\n",
       "\n",
       "#sk-container-id-1 div.sk-label-container {\n",
       "  text-align: center;\n",
       "}\n",
       "\n",
       "/* Estimator-specific */\n",
       "#sk-container-id-1 div.sk-estimator {\n",
       "  font-family: monospace;\n",
       "  border: 1px dotted var(--sklearn-color-border-box);\n",
       "  border-radius: 0.25em;\n",
       "  box-sizing: border-box;\n",
       "  margin-bottom: 0.5em;\n",
       "  /* unfitted */\n",
       "  background-color: var(--sklearn-color-unfitted-level-0);\n",
       "}\n",
       "\n",
       "#sk-container-id-1 div.sk-estimator.fitted {\n",
       "  /* fitted */\n",
       "  background-color: var(--sklearn-color-fitted-level-0);\n",
       "}\n",
       "\n",
       "/* on hover */\n",
       "#sk-container-id-1 div.sk-estimator:hover {\n",
       "  /* unfitted */\n",
       "  background-color: var(--sklearn-color-unfitted-level-2);\n",
       "}\n",
       "\n",
       "#sk-container-id-1 div.sk-estimator.fitted:hover {\n",
       "  /* fitted */\n",
       "  background-color: var(--sklearn-color-fitted-level-2);\n",
       "}\n",
       "\n",
       "/* Specification for estimator info (e.g. \"i\" and \"?\") */\n",
       "\n",
       "/* Common style for \"i\" and \"?\" */\n",
       "\n",
       ".sk-estimator-doc-link,\n",
       "a:link.sk-estimator-doc-link,\n",
       "a:visited.sk-estimator-doc-link {\n",
       "  float: right;\n",
       "  font-size: smaller;\n",
       "  line-height: 1em;\n",
       "  font-family: monospace;\n",
       "  background-color: var(--sklearn-color-background);\n",
       "  border-radius: 1em;\n",
       "  height: 1em;\n",
       "  width: 1em;\n",
       "  text-decoration: none !important;\n",
       "  margin-left: 1ex;\n",
       "  /* unfitted */\n",
       "  border: var(--sklearn-color-unfitted-level-1) 1pt solid;\n",
       "  color: var(--sklearn-color-unfitted-level-1);\n",
       "}\n",
       "\n",
       ".sk-estimator-doc-link.fitted,\n",
       "a:link.sk-estimator-doc-link.fitted,\n",
       "a:visited.sk-estimator-doc-link.fitted {\n",
       "  /* fitted */\n",
       "  border: var(--sklearn-color-fitted-level-1) 1pt solid;\n",
       "  color: var(--sklearn-color-fitted-level-1);\n",
       "}\n",
       "\n",
       "/* On hover */\n",
       "div.sk-estimator:hover .sk-estimator-doc-link:hover,\n",
       ".sk-estimator-doc-link:hover,\n",
       "div.sk-label-container:hover .sk-estimator-doc-link:hover,\n",
       ".sk-estimator-doc-link:hover {\n",
       "  /* unfitted */\n",
       "  background-color: var(--sklearn-color-unfitted-level-3);\n",
       "  color: var(--sklearn-color-background);\n",
       "  text-decoration: none;\n",
       "}\n",
       "\n",
       "div.sk-estimator.fitted:hover .sk-estimator-doc-link.fitted:hover,\n",
       ".sk-estimator-doc-link.fitted:hover,\n",
       "div.sk-label-container:hover .sk-estimator-doc-link.fitted:hover,\n",
       ".sk-estimator-doc-link.fitted:hover {\n",
       "  /* fitted */\n",
       "  background-color: var(--sklearn-color-fitted-level-3);\n",
       "  color: var(--sklearn-color-background);\n",
       "  text-decoration: none;\n",
       "}\n",
       "\n",
       "/* Span, style for the box shown on hovering the info icon */\n",
       ".sk-estimator-doc-link span {\n",
       "  display: none;\n",
       "  z-index: 9999;\n",
       "  position: relative;\n",
       "  font-weight: normal;\n",
       "  right: .2ex;\n",
       "  padding: .5ex;\n",
       "  margin: .5ex;\n",
       "  width: min-content;\n",
       "  min-width: 20ex;\n",
       "  max-width: 50ex;\n",
       "  color: var(--sklearn-color-text);\n",
       "  box-shadow: 2pt 2pt 4pt #999;\n",
       "  /* unfitted */\n",
       "  background: var(--sklearn-color-unfitted-level-0);\n",
       "  border: .5pt solid var(--sklearn-color-unfitted-level-3);\n",
       "}\n",
       "\n",
       ".sk-estimator-doc-link.fitted span {\n",
       "  /* fitted */\n",
       "  background: var(--sklearn-color-fitted-level-0);\n",
       "  border: var(--sklearn-color-fitted-level-3);\n",
       "}\n",
       "\n",
       ".sk-estimator-doc-link:hover span {\n",
       "  display: block;\n",
       "}\n",
       "\n",
       "/* \"?\"-specific style due to the `<a>` HTML tag */\n",
       "\n",
       "#sk-container-id-1 a.estimator_doc_link {\n",
       "  float: right;\n",
       "  font-size: 1rem;\n",
       "  line-height: 1em;\n",
       "  font-family: monospace;\n",
       "  background-color: var(--sklearn-color-background);\n",
       "  border-radius: 1rem;\n",
       "  height: 1rem;\n",
       "  width: 1rem;\n",
       "  text-decoration: none;\n",
       "  /* unfitted */\n",
       "  color: var(--sklearn-color-unfitted-level-1);\n",
       "  border: var(--sklearn-color-unfitted-level-1) 1pt solid;\n",
       "}\n",
       "\n",
       "#sk-container-id-1 a.estimator_doc_link.fitted {\n",
       "  /* fitted */\n",
       "  border: var(--sklearn-color-fitted-level-1) 1pt solid;\n",
       "  color: var(--sklearn-color-fitted-level-1);\n",
       "}\n",
       "\n",
       "/* On hover */\n",
       "#sk-container-id-1 a.estimator_doc_link:hover {\n",
       "  /* unfitted */\n",
       "  background-color: var(--sklearn-color-unfitted-level-3);\n",
       "  color: var(--sklearn-color-background);\n",
       "  text-decoration: none;\n",
       "}\n",
       "\n",
       "#sk-container-id-1 a.estimator_doc_link.fitted:hover {\n",
       "  /* fitted */\n",
       "  background-color: var(--sklearn-color-fitted-level-3);\n",
       "}\n",
       "</style><div id=\"sk-container-id-1\" class=\"sk-top-container\"><div class=\"sk-text-repr-fallback\"><pre>LogisticRegression()</pre><b>In a Jupyter environment, please rerun this cell to show the HTML representation or trust the notebook. <br />On GitHub, the HTML representation is unable to render, please try loading this page with nbviewer.org.</b></div><div class=\"sk-container\" hidden><div class=\"sk-item\"><div class=\"sk-estimator fitted sk-toggleable\"><input class=\"sk-toggleable__control sk-hidden--visually\" id=\"sk-estimator-id-1\" type=\"checkbox\" checked><label for=\"sk-estimator-id-1\" class=\"sk-toggleable__label fitted sk-toggleable__label-arrow fitted\">&nbsp;&nbsp;LogisticRegression<a class=\"sk-estimator-doc-link fitted\" rel=\"noreferrer\" target=\"_blank\" href=\"https://scikit-learn.org/1.5/modules/generated/sklearn.linear_model.LogisticRegression.html\">?<span>Documentation for LogisticRegression</span></a><span class=\"sk-estimator-doc-link fitted\">i<span>Fitted</span></span></label><div class=\"sk-toggleable__content fitted\"><pre>LogisticRegression()</pre></div> </div></div></div></div>"
      ],
      "text/plain": [
       "LogisticRegression()"
      ]
     },
     "execution_count": 29,
     "metadata": {},
     "output_type": "execute_result"
    }
   ],
   "source": [
    "# training the Logistic Regression Model with Training Data\n",
    "model.fit(X_train, Y_train)"
   ]
  },
  {
   "cell_type": "markdown",
   "id": "09a6db6e",
   "metadata": {
    "papermill": {
     "duration": 0.01026,
     "end_time": "2025-02-02T15:48:36.858516",
     "exception": false,
     "start_time": "2025-02-02T15:48:36.848256",
     "status": "completed"
    },
    "tags": []
   },
   "source": [
    "# Model Evaluation\n",
    "\n",
    "Accuracy Score"
   ]
  },
  {
   "cell_type": "code",
   "execution_count": 30,
   "id": "a48059f1",
   "metadata": {
    "execution": {
     "iopub.execute_input": "2025-02-02T15:48:36.881096Z",
     "iopub.status.busy": "2025-02-02T15:48:36.880762Z",
     "iopub.status.idle": "2025-02-02T15:48:36.888564Z",
     "shell.execute_reply": "2025-02-02T15:48:36.887789Z"
    },
    "papermill": {
     "duration": 0.021179,
     "end_time": "2025-02-02T15:48:36.890370",
     "exception": false,
     "start_time": "2025-02-02T15:48:36.869191",
     "status": "completed"
    },
    "tags": []
   },
   "outputs": [],
   "source": [
    "# accuracy on training data\n",
    "X_train_prediction = model.predict(X_train)\n",
    "training_data_accuracy = accuracy_score(X_train_prediction, Y_train)"
   ]
  },
  {
   "cell_type": "code",
   "execution_count": 31,
   "id": "fae97345",
   "metadata": {
    "execution": {
     "iopub.execute_input": "2025-02-02T15:48:36.914048Z",
     "iopub.status.busy": "2025-02-02T15:48:36.913714Z",
     "iopub.status.idle": "2025-02-02T15:48:36.918514Z",
     "shell.execute_reply": "2025-02-02T15:48:36.917130Z"
    },
    "papermill": {
     "duration": 0.018319,
     "end_time": "2025-02-02T15:48:36.920158",
     "exception": false,
     "start_time": "2025-02-02T15:48:36.901839",
     "status": "completed"
    },
    "tags": []
   },
   "outputs": [
    {
     "name": "stdout",
     "output_type": "stream",
     "text": [
      "Accuracy on Training data :  0.9497354497354498\n"
     ]
    }
   ],
   "source": [
    "print('Accuracy on Training data : ', training_data_accuracy)"
   ]
  },
  {
   "cell_type": "code",
   "execution_count": 32,
   "id": "837f5d4e",
   "metadata": {
    "execution": {
     "iopub.execute_input": "2025-02-02T15:48:36.943723Z",
     "iopub.status.busy": "2025-02-02T15:48:36.943365Z",
     "iopub.status.idle": "2025-02-02T15:48:36.950541Z",
     "shell.execute_reply": "2025-02-02T15:48:36.949499Z"
    },
    "papermill": {
     "duration": 0.020951,
     "end_time": "2025-02-02T15:48:36.952178",
     "exception": false,
     "start_time": "2025-02-02T15:48:36.931227",
     "status": "completed"
    },
    "tags": []
   },
   "outputs": [],
   "source": [
    "# accuracy on test data\n",
    "X_test_prediction = model.predict(X_test)\n",
    "test_data_accuracy = accuracy_score(X_test_prediction, Y_test)"
   ]
  },
  {
   "cell_type": "code",
   "execution_count": 33,
   "id": "4f44dd27",
   "metadata": {
    "execution": {
     "iopub.execute_input": "2025-02-02T15:48:36.975419Z",
     "iopub.status.busy": "2025-02-02T15:48:36.975018Z",
     "iopub.status.idle": "2025-02-02T15:48:36.980350Z",
     "shell.execute_reply": "2025-02-02T15:48:36.979363Z"
    },
    "papermill": {
     "duration": 0.019045,
     "end_time": "2025-02-02T15:48:36.982004",
     "exception": false,
     "start_time": "2025-02-02T15:48:36.962959",
     "status": "completed"
    },
    "tags": []
   },
   "outputs": [
    {
     "name": "stdout",
     "output_type": "stream",
     "text": [
      "Accuracy score on Test Data :  0.9315789473684211\n"
     ]
    }
   ],
   "source": [
    "print('Accuracy score on Test Data : ', test_data_accuracy)"
   ]
  }
 ],
 "metadata": {
  "kaggle": {
   "accelerator": "none",
   "dataSources": [
    {
     "datasetId": 310,
     "sourceId": 23498,
     "sourceType": "datasetVersion"
    }
   ],
   "dockerImageVersionId": 30839,
   "isGpuEnabled": false,
   "isInternetEnabled": true,
   "language": "python",
   "sourceType": "notebook"
  },
  "kernelspec": {
   "display_name": "Python 3",
   "language": "python",
   "name": "python3"
  },
  "language_info": {
   "codemirror_mode": {
    "name": "ipython",
    "version": 3
   },
   "file_extension": ".py",
   "mimetype": "text/x-python",
   "name": "python",
   "nbconvert_exporter": "python",
   "pygments_lexer": "ipython3",
   "version": "3.12.5"
  },
  "papermill": {
   "default_parameters": {},
   "duration": 14.922214,
   "end_time": "2025-02-02T15:48:37.814620",
   "environment_variables": {},
   "exception": null,
   "input_path": "__notebook__.ipynb",
   "output_path": "__notebook__.ipynb",
   "parameters": {},
   "start_time": "2025-02-02T15:48:22.892406",
   "version": "2.6.0"
  }
 },
 "nbformat": 4,
 "nbformat_minor": 5
}
